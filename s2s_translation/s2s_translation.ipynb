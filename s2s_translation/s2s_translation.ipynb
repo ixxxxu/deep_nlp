{
 "cells": [
  {
   "cell_type": "markdown",
   "metadata": {},
   "source": [
    "### Seq2seq 번역기 만들기"
   ]
  },
  {
   "cell_type": "markdown",
   "metadata": {},
   "source": [
    "### Step 1. 데이터 다운로드\n",
    "아래 링크에서 korean-english-park.train.tar.gz 를 다운로드받아 한영 병렬 데이터를 확보합니다.\n",
    "\n",
    "- jungyeul/korean-parallel-corpora -https://github.com/jungyeul/korean-parallel-corpora/tree/master/korean-english-news-v1)"
   ]
  },
  {
   "cell_type": "markdown",
   "metadata": {},
   "source": [
    "### Step 2. 데이터 정제\n",
    "1) set 데이터형이 중복을 허용하지 않는다는 것을 활용해 중복된 데이터를 제거하도록 합니다. 데이터의 병렬 쌍이 흐트러지지 않게 주의하세요! 중복을 제거한 데이터를 cleaned_corpus 에 저장합니다.\n",
    "\n",
    "2) 앞서 정의한 preprocessing() 함수는 한글에 대해 동작하지 않습니다. 한글에 적용할 수 있는 정규식을 추가하여 함수를 재정의하세요!\n",
    "\n",
    "3) 타겟 언어인 영문엔 <start> 토큰과 <end> 토큰을 추가하고 split() 함수로 토큰화합니다. 한글 토큰화는 KoNLPy의 mecab 클래스를 사용합니다. KoNLPy가 설치되어 있지 않다면 아래 문서를 참고해 설치해 주세요.\n",
    "\n",
    "설치하기-KoNLP https://konlpy.org/ko/latest/install/#ubuntu\n",
    "\n",
    "- 모든 데이터를 사용할 경우 학습에 굉장히 오랜 시간이 걸립니다. cleaned_corpus로부터 토큰의 길이가 40 이하인 데이터를 선별하여 eng_corpus와 kor_corpus를 각각 구축하세요."
   ]
  },
  {
   "cell_type": "markdown",
   "metadata": {},
   "source": [
    "### Step 3. 데이터 토큰화\n",
    "    \n",
    "앞서 정의한 tokenize() 함수를 사용해 데이터를 텐서로 변환하고 각각의 tokenizer를 얻으세요! 단어의 수는 실험을 통해 적당한 값을 맞춰주도록 합니다! (최소 10,000 이상!)\n",
    "\n",
    "난이도에 비해 데이터가 많지 않아 훈련 데이터와 검증 데이터를 따로 나누지는 않습니다."
   ]
  },
  {
   "cell_type": "markdown",
   "metadata": {},
   "source": [
    "### Step 4. 모델 설계\n",
    "한국어를 영어로 잘 번역해 줄 멋진 Attention 기반 Seq2seq 모델을 설계하세요! 앞서 만든 모델에 Dropout 모듈을 추가하면 성능이 더 좋아질 거랍니다! Embedding Size와 Hidden Size는 실험을 통해 적당한 값을 맞춰 주도록 합니다!"
   ]
  },
  {
   "cell_type": "markdown",
   "metadata": {},
   "source": [
    "### Step 5. 훈련하기\n",
    "훈련엔 위에서 사용한 코드를 그대로 사용하되, eval_step() 부분이 없음에 유의합니다! 매 스텝 아래의 예문에 대한 번역을 생성하여 본인이 생각하기에 가장 멋지게 번역한 Case를 제출하세요! (Attention Map을 시각화해보는 것도 재밌을 거예요!)\n",
    "\n",
    "참고: 데이터의 난이도가 높은 편이므로 생각만큼 결과가 잘 안나올 수 있습니다."
   ]
  },
  {
   "cell_type": "markdown",
   "metadata": {},
   "source": [
    "### 루브릭\n",
    "\n",
    "1. 번역기 모델 학습에 필요한 텍스트 데이터 전처리가 한국어 포함하여 잘 이루어졌다.\n",
    "    - 구두점, 대소문자, 띄어쓰기, 한글 형태소분석 등 번역기 모델에 요구되는 전처리가 정상적으로 진행되었다.\n",
    "\n",
    "2. Attentional Seq2seq 모델이 정상적으로 구동된다.\n",
    "    - seq2seq 모델 훈련 과정에서 training loss가 안정적으로 떨어지면서 학습이 진행됨이 확인되었다.\n",
    "    \n",
    "3. 테스트 결과 의미가 통하는 수준의 번역문이 생성되었다.\n",
    "    - 테스트용 디코더 모델이 정상적으로 만들어져서, 정답과 어느 정도 유사한 영어 번역이 진행됨을 확인하였다.\n"
   ]
  },
  {
   "cell_type": "code",
   "execution_count": null,
   "metadata": {},
   "outputs": [],
   "source": [
    "# 한글폰트설치\n",
    "#!sudo apt -qq -y install fonts-nanum"
   ]
  },
  {
   "cell_type": "code",
   "execution_count": 21,
   "metadata": {},
   "outputs": [],
   "source": [
    "# matplotlib 폰트 설정\n",
    "import matplotlib as mpl\n",
    "import matplotlib.pyplot as plt\n",
    " \n",
    "%config InlineBackend.figure_format = 'retina'\n",
    " \n",
    "import matplotlib.font_manager as fm\n",
    "fontpath = '/usr/share/fonts/truetype/nanum/NanumBarunGothic.ttf'\n",
    "font = fm.FontProperties(fname=fontpath, size=9)\n",
    "plt### Seq2seq 번역기 만들기.rc('font', family='NanumBarunGothic') \n",
    "mpl.font_manager._rebuild()"
   ]
  },
  {
   "cell_type": "markdown",
   "metadata": {},
   "source": [
    "### 데이터 전처리"
   ]
  },
  {
   "cell_type": "code",
   "execution_count": 54,
   "metadata": {
    "scrolled": true
   },
   "outputs": [
    {
     "name": "stdout",
     "output_type": "stream",
     "text": [
      "2.3.0\n"
     ]
    }
   ],
   "source": [
    "import tensorflow as tf\n",
    "import numpy as np\n",
    "\n",
    "from sklearn.model_selection import train_test_split\n",
    "\n",
    "import matplotlib.ticker as ticker\n",
    "import matplotlib.pyplot as plt\n",
    "\n",
    "import time\n",
    "import re\n",
    "import os\n",
    "import io\n",
    "\n",
    "print(tf.__version__)"
   ]
  },
  {
   "cell_type": "code",
   "execution_count": 23,
   "metadata": {},
   "outputs": [],
   "source": [
    "# #데이터 다운로드 -> get_file()함수로 URL로 부터 데이터 다운로드(압축파일일 경우 압축해제 수행)\n",
    "# path_to_zip = tf.keras.utils.get_file(\n",
    "#     'spa-eng.zip',\n",
    "#     origin='http://storage.googleapis.com/download.tensorflow.org/data/spa-eng.zip',\n",
    "#     extract=True)\n",
    "\n",
    "# path_to_file = os.path.dirname(path_to_zip)+\"/spa-eng/spa.txt\""
   ]
  },
  {
   "cell_type": "code",
   "execution_count": 53,
   "metadata": {},
   "outputs": [
    {
     "name": "stdout",
     "output_type": "stream",
     "text": [
      "/home/aiffel/aiffel/s2s_translation/korean-english-park.train/korean-english-park.train.ko\n"
     ]
    }
   ],
   "source": [
    "data_path = os.getenv('HOME')+'/aiffel/s2s_translation/'\n",
    "train_path_ko = data_path+'korean-english-park.train/korean-english-park.train.ko'\n",
    "train_path_en = data_path+'korean-english-park.train/korean-english-park.train.en'\n",
    "print(train_path_ko)"
   ]
  },
  {
   "cell_type": "code",
   "execution_count": 25,
   "metadata": {},
   "outputs": [],
   "source": [
    "#데이터 다운로드 -> get_file()함수로 URL로 부터 데이터 다운로드(압축파일일 경우 압축해제 수행)\n",
    "# path_to_zip = tf.keras.utils.get_file(\n",
    "#     'korean-english-park.train.tar.gz',\n",
    "#     origin='https://github.com/jungyeul/korean-parallel-corpora/blob/master/korean-english-news-v1/korean-english-park.train.tar.gz?raw=true',\n",
    "#     extract=True)\n",
    "#home = '/home/aiffel/aiffel/s2s_translation/korean-english-park.train'\n",
    "\n",
    "#직접 경로 지정\n",
    "# kor_train = \"/home/aiffel/aiffel/s2s_translation/korean-english-park.train/korean-english-park.train.ko\"\n",
    "# eng_train = \"/home/aiffel/aiffel/s2s_translation/korean-english-park.train/korean-english-park.train.en\"\n"
   ]
  },
  {
   "cell_type": "code",
   "execution_count": 56,
   "metadata": {},
   "outputs": [
    {
     "name": "stdout",
     "output_type": "stream",
     "text": [
      "Data Size: 94123\n",
      "Example:\n",
      "1 >> 개인용 컴퓨터 사용의 상당 부분은 \"이것보다 뛰어날 수 있느냐?\"\n",
      "2 >> 모든 광마우스와 마찬가지 로 이 광마우스도 책상 위에 놓는 마우스 패드를 필요로 하지 않는다.\n",
      "3 >> 그러나 이것은 또한 책상도 필요로 하지 않는다.\n",
      "4 >> 79.95달러하는 이 최첨단 무선 광마우스는 허공에서 팔목, 팔, 그외에 어떤 부분이든 그 움직임에따라 커서의 움직임을 조절하는 회전 운동 센서를 사용하고 있다.\n",
      "5 >> 정보 관리들은 동남 아시아에서의 선박들에 대한 많은 (테러) 계획들이 실패로 돌아갔음을 밝혔으며, 세계 해상 교역량의 거의 3분의 1을 운송하는 좁은 해로인 말라카 해협이 테러 공격을 당하기 쉽다고 경고하고 있다.\n",
      "6 >> 이 지역에 있는 미국 선박과 상업용 선박들에 대한 알카에다의 (테러) 시도 중 여러 건이 실패했다는 것을 알게 된 후에, 전문가들은 테러 조직이 여전히 세계 경제에 타격을 입히려 한다고 경고하고 있으며, 동남 아시아에 있는 세계 경제의 주요 통로가 위험에 처해 있다고 그들은 생각하고 있다.\n",
      "7 >> 국립 과학 학회가 발표한 새 보고서에따르면, 복잡한 임무를 수행해야 하는 군인들이나 보다 오랜 시간 동안 경계를 늦추지 않고 있기 위해 도움이 필요한 군인들에게 카페인이 반응 시간을 증가시키고 임무 수행 능력을 향상시키는데 도움이 된다고 한다.\n",
      "8 >> 이 보고서에따르면, \"특히, 군사 작전에서 생사가 걸린 상황이 될 수도 있는 반응 속도와 시각 및 청각의 경계 상태를 유지시키기 위해 카페인이 사용될 수도 있다.\" 고 한다.\n",
      "9 >> \"결정적인 순간에 그들의 능력을 증가시켜 줄 그 무엇이 매우 중요합니다.\"\n",
      "10 >> 연구가들이 이미 커피 대체품으로서 음식 대용 과자나 껌에 카페인을 첨가하는 방법을 연구하고 있다고 Archibald는 말했다.\n",
      "11 >> 약 200600밀리그램의, 비슷한 분량의 카페인은 또한 육체적 지구력을 강화시키는 데 효과적인 것 같으며, 특히 고도가 높은 곳에서 약해진 육체적 지구력을 일부 회복시켜주는 데 유용하다는 것이 이번 연구에서 밝혀졌다.\n",
      "12 >> 의약 연구소는 정부에 과학 문제에 관해 자문하기 위해 의회가 설립 인가를 내어 준 민간 단체인 국립 과학 학회의 부속 단체이다.\n",
      "13 >> 아시아에서의 왕성한 수요 덕분에 일본의 수출이 9월에 연속 6개월간 증가하여, 무역 흑자가 1조550억엔(84억7,000만달러)으로 늘어났다고 재무성이 발표했다.\n",
      "14 >> 그러나 침체되고 있는 미국 경제와 국내 수요의 약세 전망이 향후 수개월 동안의 낙관론을 어둡게 했다.\n",
      "15 >> 특수 부대가 극장 건물로 공격해 들어가면서, 러시아인이 아닌 75명의 외국인과 25명의 어린이 전부를 포함해 750명 이상의 인질들이 구출되었다.\n",
      "16 >> 러시아 특수 부대는 극장으로 공격해 들어가기 전에 신경 독가스를 사용했다.\n",
      "17 >> 많은 인질들이 화학 가스의 영향으로 고통을 겪으며 병원으로 옮겨졌다.\n",
      "18 >> 과거 노조 지도자였던 루이스 이나시오 룰라 다 실바가 브라질의 대통령 선거 결선 투표에서 압승을 거두면서, 라틴 아메리카 최대 국가로서는 좌파로의 역사적인 전환을 맞이하게 되었다.\n",
      "19 >> 실바의 노동자당이 자신들의 후보가 선거의 승리자라고 선언한 후 몇 시간이 지나, 집권당 후보인 조제 세하는 패배를 시인했다.\n",
      "20 >> 수천명의 실바 지지자들이 상 파울로와 리오 데 자네이로의 거리에 모여 들어, 실바가 이끄는 당의 붉은 깃발을 흔들며 축하했다.\n"
     ]
    }
   ],
   "source": [
    "#데이터 불러오기\n",
    "with open(train_path_ko, \"r\") as f:\n",
    "    raw_ko = f.read().splitlines()\n",
    "\n",
    "print(\"Data Size:\", len(raw_ko))\n",
    "print(\"Example:\")\n",
    "\n",
    "ind = 0\n",
    "for sen in raw_ko[0:20:1]: \n",
    "    ind += 1\n",
    "    print(f'{ind} >> {sen}')"
   ]
  },
  {
   "cell_type": "code",
   "execution_count": 28,
   "metadata": {},
   "outputs": [
    {
     "name": "stdout",
     "output_type": "stream",
     "text": [
      "Data Size: 94123\n",
      "Example:\n",
      "1 >> Much of personal computing is about \"can you top this?\"\n",
      "2 >> so a mention a few weeks ago about a rechargeable wireless optical mouse brought in another rechargeable, wireless mouse.\n",
      "3 >> Like all optical mice, But it also doesn't need a desk.\n",
      "4 >> uses gyroscopic sensors to control the cursor movement as you move your wrist, arm, whatever through the air.\n",
      "5 >> Intelligence officials have revealed a spate of foiled plots on ships in Southeast Asia and are warning that a narrow stretch of water carrying almost one third of the world's maritime trade is vulnerable to a terror attack.\n",
      "6 >> After learning of several foiled al Qaeda attempts on U.S. and commercial ships in the area, experts are warning that the terror network still wants to cripple the global economy, the world's economic jugular vein in Southeast Asia is at risk.\n",
      "7 >> Caffeine can help increase reaction time and improve performance for military servicemen who must perform complex tasks or who need help staying alert for longer periods of time, according to a new report by the National Academy of Sciences.\n",
      "8 >> \"Specifically, it can be used in maintaining speed of reactions and visual and auditory vigilance, which in military operations could be a life or death situation,\" according to the report.\n",
      "9 >> \"Something that will boost their capabilities at crucial moments is very important.\"\n",
      "10 >> Researchers are already exploring ways to put caffeine in nutrition bars or chewing gum as alternatives to coffee, Archibald said.\n",
      "11 >> A similar dose of caffeine, about 200-600 mg, also appears effective in enhancing physical endurance and may be especially useful in returning some of the physical endurance lost at high altitude, the study found.\n",
      "12 >> The Institute of Medicine is part of the National Academy of Sciences, a private organization chartered by Congress to advise the government on scientific matters.\n",
      "13 >> thanks to robust demand in Asia, boosting the trade surplus to 1.055 trillion yen ($8.47 billion), the Ministry of Finance said.\n",
      "14 >> But the prospect of a slowing U.S. economy and weak demand at home overshadowed any optimism for the months ahead.\n",
      "15 >> More than 750 hostages were rescued, including all 75 non-Russians and 25 children, when special forces stormed the building.\n",
      "16 >> Russian special forces used a sedative gas before storming the theatre.\n",
      "17 >> Many captives were taken to hospital suffering from the effects of the chemical.\n",
      "18 >> marking a historic shift to the left for Latin America's largest country.\n",
      "19 >> hours after Silva's Workers Party had declared their candidate the winner.\n",
      "20 >> Thousands of Silva supporters gathered in the streets of Sao Paulo and Rio de Janeiro, waving his party's red flag in celebration.\n"
     ]
    }
   ],
   "source": [
    "\n",
    "with open(train_path_en, \"r\") as f:\n",
    "    raw_en = f.read().splitlines()\n",
    "\n",
    "print(\"Data Size:\", len(raw_en))\n",
    "print(\"Example:\")\n",
    "\n",
    "ind = 0\n",
    "for sen in raw_en[0:20:1]: \n",
    "    ind += 1\n",
    "    print(f'{ind} >> {sen}')"
   ]
  },
  {
   "cell_type": "markdown",
   "metadata": {},
   "source": [
    "#### 데이터 전처리 : 정제하기"
   ]
  },
  {
   "cell_type": "code",
   "execution_count": 57,
   "metadata": {},
   "outputs": [
    {
     "data": {
      "text/plain": [
       "(list, list)"
      ]
     },
     "execution_count": 57,
     "metadata": {},
     "output_type": "execute_result"
    }
   ],
   "source": [
    "#데이터 타입 확인\n",
    "type(raw_ko), type(raw_en)"
   ]
  },
  {
   "cell_type": "code",
   "execution_count": 58,
   "metadata": {},
   "outputs": [
    {
     "data": {
      "text/plain": [
       "(False, False)"
      ]
     },
     "execution_count": 58,
     "metadata": {},
     "output_type": "execute_result"
    }
   ],
   "source": [
    "#중복 확인 \n",
    "len(raw_ko) == len(set(raw_ko)), len(raw_en) == len(set(raw_en))"
   ]
  },
  {
   "cell_type": "code",
   "execution_count": 59,
   "metadata": {},
   "outputs": [
    {
     "data": {
      "text/plain": [
       "(77591, 75598)"
      ]
     },
     "execution_count": 59,
     "metadata": {},
     "output_type": "execute_result"
    }
   ],
   "source": [
    "#set()함수를 활용한 중복 확인\n",
    "len(set(raw_ko)), len(set(raw_en))"
   ]
  },
  {
   "cell_type": "code",
   "execution_count": 60,
   "metadata": {},
   "outputs": [
    {
     "data": {
      "text/html": [
       "<div>\n",
       "<style scoped>\n",
       "    .dataframe tbody tr th:only-of-type {\n",
       "        vertical-align: middle;\n",
       "    }\n",
       "\n",
       "    .dataframe tbody tr th {\n",
       "        vertical-align: top;\n",
       "    }\n",
       "\n",
       "    .dataframe thead th {\n",
       "        text-align: right;\n",
       "    }\n",
       "</style>\n",
       "<table border=\"1\" class=\"dataframe\">\n",
       "  <thead>\n",
       "    <tr style=\"text-align: right;\">\n",
       "      <th></th>\n",
       "      <th>kor</th>\n",
       "      <th>eng</th>\n",
       "    </tr>\n",
       "  </thead>\n",
       "  <tbody>\n",
       "    <tr>\n",
       "      <th>0</th>\n",
       "      <td>개인용 컴퓨터 사용의 상당 부분은 \"이것보다 뛰어날 수 있느냐?\"</td>\n",
       "      <td>Much of personal computing is about \"can you t...</td>\n",
       "    </tr>\n",
       "    <tr>\n",
       "      <th>1</th>\n",
       "      <td>모든 광마우스와 마찬가지 로 이 광마우스도 책상 위에 놓는 마우스 패드를 필요로 하...</td>\n",
       "      <td>so a mention a few weeks ago about a rechargea...</td>\n",
       "    </tr>\n",
       "    <tr>\n",
       "      <th>2</th>\n",
       "      <td>그러나 이것은 또한 책상도 필요로 하지 않는다.</td>\n",
       "      <td>Like all optical mice, But it also doesn't nee...</td>\n",
       "    </tr>\n",
       "    <tr>\n",
       "      <th>3</th>\n",
       "      <td>79.95달러하는 이 최첨단 무선 광마우스는 허공에서 팔목, 팔, 그외에 어떤 부분...</td>\n",
       "      <td>uses gyroscopic sensors to control the cursor ...</td>\n",
       "    </tr>\n",
       "    <tr>\n",
       "      <th>4</th>\n",
       "      <td>정보 관리들은 동남 아시아에서의 선박들에 대한 많은 (테러) 계획들이 실패로 돌아갔...</td>\n",
       "      <td>Intelligence officials have revealed a spate o...</td>\n",
       "    </tr>\n",
       "  </tbody>\n",
       "</table>\n",
       "</div>"
      ],
      "text/plain": [
       "                                                 kor  \\\n",
       "0               개인용 컴퓨터 사용의 상당 부분은 \"이것보다 뛰어날 수 있느냐?\"   \n",
       "1  모든 광마우스와 마찬가지 로 이 광마우스도 책상 위에 놓는 마우스 패드를 필요로 하...   \n",
       "2                         그러나 이것은 또한 책상도 필요로 하지 않는다.   \n",
       "3  79.95달러하는 이 최첨단 무선 광마우스는 허공에서 팔목, 팔, 그외에 어떤 부분...   \n",
       "4  정보 관리들은 동남 아시아에서의 선박들에 대한 많은 (테러) 계획들이 실패로 돌아갔...   \n",
       "\n",
       "                                                 eng  \n",
       "0  Much of personal computing is about \"can you t...  \n",
       "1  so a mention a few weeks ago about a rechargea...  \n",
       "2  Like all optical mice, But it also doesn't nee...  \n",
       "3  uses gyroscopic sensors to control the cursor ...  \n",
       "4  Intelligence officials have revealed a spate o...  "
      ]
     },
     "execution_count": 60,
     "metadata": {},
     "output_type": "execute_result"
    }
   ],
   "source": [
    "import pandas as pd\n",
    "\n",
    "#데이터프레임 생성\n",
    "raw_df = pd.DataFrame( {\n",
    "    'kor' : raw_ko,\n",
    "    'eng' : raw_en\n",
    "})\n",
    "raw_df.head()"
   ]
  },
  {
   "cell_type": "code",
   "execution_count": 61,
   "metadata": {},
   "outputs": [
    {
     "data": {
      "text/plain": [
       "15155"
      ]
     },
     "execution_count": 61,
     "metadata": {},
     "output_type": "execute_result"
    }
   ],
   "source": [
    "#duplicated() 중복값 확인 \n",
    "raw_df.duplicated().sum()"
   ]
  },
  {
   "cell_type": "code",
   "execution_count": 62,
   "metadata": {},
   "outputs": [
    {
     "data": {
      "text/plain": [
       "(16532, 18525)"
      ]
     },
     "execution_count": 62,
     "metadata": {},
     "output_type": "execute_result"
    }
   ],
   "source": [
    "# 한국어, 영어 데이터의 중복 크기 확인\n",
    "len(raw_ko) - len(set(raw_ko)), len(raw_en) - len(set(raw_en))"
   ]
  },
  {
   "cell_type": "code",
   "execution_count": 63,
   "metadata": {},
   "outputs": [
    {
     "data": {
      "text/html": [
       "<div>\n",
       "<style scoped>\n",
       "    .dataframe tbody tr th:only-of-type {\n",
       "        vertical-align: middle;\n",
       "    }\n",
       "\n",
       "    .dataframe tbody tr th {\n",
       "        vertical-align: top;\n",
       "    }\n",
       "\n",
       "    .dataframe thead th {\n",
       "        text-align: right;\n",
       "    }\n",
       "</style>\n",
       "<table border=\"1\" class=\"dataframe\">\n",
       "  <thead>\n",
       "    <tr style=\"text-align: right;\">\n",
       "      <th></th>\n",
       "      <th>kor</th>\n",
       "      <th>eng</th>\n",
       "    </tr>\n",
       "  </thead>\n",
       "  <tbody>\n",
       "    <tr>\n",
       "      <th>7789</th>\n",
       "      <td>이들 의원 중 1명은 빌 클린턴 전 대통령이 지난 몇 주간 부인 힐러리에게 오바마의...</td>\n",
       "      <td>One of the lawmakers said Clinton's husband, f...</td>\n",
       "    </tr>\n",
       "    <tr>\n",
       "      <th>16551</th>\n",
       "      <td>매케인은 지지자들에게 “오늘 경선에서 승리해 기쁘며 또한 여러분에게 고마움을 표하고...</td>\n",
       "      <td>\"I am very, very grateful and pleased to note ...</td>\n",
       "    </tr>\n",
       "    <tr>\n",
       "      <th>24494</th>\n",
       "      <td>‘키스의 기술(원제: The Art of Kissing )의 저자 마이클 크리스찬(...</td>\n",
       "      <td>Michael Christian, author of \"The Art of Kissi...</td>\n",
       "    </tr>\n",
       "    <tr>\n",
       "      <th>36281</th>\n",
       "      <td>그는 이어 \"25일 저녁 6시 30분까지 탈레반 수감자들이 석방되지 않으면 인질 일...</td>\n",
       "      <td>If by two o'clock today (0930 GMT), the Taliba...</td>\n",
       "    </tr>\n",
       "    <tr>\n",
       "      <th>49236</th>\n",
       "      <td>SEOUL, South Korea (AP)/송완영 (JOINS)</td>\n",
       "      <td>ÏÀ» Á¦°øÇÏÁö ¾Ê½À´Ï´Ù.</td>\n",
       "    </tr>\n",
       "  </tbody>\n",
       "</table>\n",
       "</div>"
      ],
      "text/plain": [
       "                                                     kor  \\\n",
       "7789   이들 의원 중 1명은 빌 클린턴 전 대통령이 지난 몇 주간 부인 힐러리에게 오바마의...   \n",
       "16551  매케인은 지지자들에게 “오늘 경선에서 승리해 기쁘며 또한 여러분에게 고마움을 표하고...   \n",
       "24494  ‘키스의 기술(원제: The Art of Kissing )의 저자 마이클 크리스찬(...   \n",
       "36281  그는 이어 \"25일 저녁 6시 30분까지 탈레반 수감자들이 석방되지 않으면 인질 일...   \n",
       "49236                SEOUL, South Korea (AP)/송완영 (JOINS)   \n",
       "\n",
       "                                                     eng  \n",
       "7789   One of the lawmakers said Clinton's husband, f...  \n",
       "16551  \"I am very, very grateful and pleased to note ...  \n",
       "24494  Michael Christian, author of \"The Art of Kissi...  \n",
       "36281  If by two o'clock today (0930 GMT), the Taliba...  \n",
       "49236                             ÏÀ» Á¦°øÇÏÁö ¾Ê½À´Ï´Ù.  "
      ]
     },
     "execution_count": 63,
     "metadata": {},
     "output_type": "execute_result"
    }
   ],
   "source": [
    "cond = raw_df.duplicated()\n",
    "raw_df[cond][:100:20]"
   ]
  },
  {
   "cell_type": "code",
   "execution_count": 64,
   "metadata": {},
   "outputs": [
    {
     "name": "stdout",
     "output_type": "stream",
     "text": [
      "94123\n",
      "78968\n"
     ]
    }
   ],
   "source": [
    "#중복값 제거 >>> 15155\n",
    "print(len(raw_df))\n",
    "raw_df.drop_duplicates(inplace=True)\n",
    "print(len(raw_df))"
   ]
  },
  {
   "cell_type": "code",
   "execution_count": 65,
   "metadata": {},
   "outputs": [],
   "source": [
    "from konlpy.tag import Mecab\n",
    "\n",
    "mecab = Mecab()\n",
    "\n",
    "def preprocess_kor(sentence):\n",
    "    sentence = sentence.strip()\n",
    "\n",
    "    sentence = re.sub(r\"([?.!,])\", r\" \\1 \", sentence) # ?.!, 가 나오면 앞에 한칸 띄어주기\n",
    "    sentence = re.sub(r'[\" \"]+', \" \", sentence) # 띄어쓰기 여러개가 되어 있으면 하나로 줄이기\n",
    "    sentence = re.sub(r\"[^a-zA-Z?.!,]+\", \" \", sentence)\n",
    "    #strip() -> 문자열에서 특정 문자 제거\n",
    "    sentence = re.sub(r\"[^[ㄱ-ㅎ|가-힣?.!,]+\",\" \", sentence).strip() #한글 ? . !, 문자 부호가 아니면 빈칸으로 대체\n",
    "  \n",
    "    \n",
    "    sentence = mecab.morphs(sentence)    # mecab() 이용해 문장 분절\n",
    "    \n",
    "    return sentence"
   ]
  },
  {
   "cell_type": "code",
   "execution_count": 72,
   "metadata": {},
   "outputs": [],
   "source": [
    "from konlpy.tag import Mecab\n",
    "\n",
    "mecab = Mecab()\n",
    "\n",
    "def preprocess_kor(sentence):\n",
    "    sentence = sentence.strip()\n",
    "    \n",
    "    sentence = re.sub(r\"([?.!,])\", r\" \\1 \", sentence)    # ?.!, 가 나오면 앞에 한칸 띄어주기\n",
    "    sentence = re.sub(r'[\" \"]+', \" \", sentence)    # 띄어쓰기 여러개가 되어 있으면 하나로 줄이기\n",
    "    sentence = re.sub(r\"[^ㄱ-ㅎ|가-힣?.!,]+\", \" \", sentence).strip()    # 한글 ?.!, 문자 부호가 아니면 빈칸으로 대체\n",
    "    sentence = mecab.morphs(sentence)    # mecab() 이용해 문장 분절\n",
    "    \n",
    "    return sentence"
   ]
  },
  {
   "cell_type": "code",
   "execution_count": 73,
   "metadata": {},
   "outputs": [],
   "source": [
    "def preprocess_eng(sentence):\n",
    "    sentence = sentence.strip()\n",
    "    \n",
    "    sentence = re.sub(r\"([?.!,])\", r\" \\1 \", sentence)    # ?.!, 가 나오면 앞에 한칸 띄어주기\n",
    "    sentence = re.sub(r'[\" \"]+', \" \", sentence)    # 띄어쓰기 여러개가 되어 있으면 하나로 줄이기\n",
    "    sentence = re.sub(r\"[^a-zA-Z?.!,]+\", \" \", sentence).strip()    # 알파벳 ?.!, 문자부호가 아니면 빈칸으로 대체\n",
    "    \n",
    "    sentence = '<start> ' + sentence    # '<start> ' 뒤에 sentence 붙이기\n",
    "    sentence += ' <end>'    # sentence 뒤에 ' <end>' 붙이기\n",
    "    sentence = sentence.split()    # 띄어쓰기 기준으로 문장 나누기\n",
    "    \n",
    "    return sentence"
   ]
  },
  {
   "cell_type": "code",
   "execution_count": 74,
   "metadata": {},
   "outputs": [],
   "source": [
    "raw_df['cleaned_ko'] = raw_df['kor'].map(preprocess_kor)\n",
    "raw_df['cleaned_en'] = raw_df['eng'].map(preprocess_eng)"
   ]
  },
  {
   "cell_type": "code",
   "execution_count": 75,
   "metadata": {},
   "outputs": [
    {
     "data": {
      "text/html": [
       "<div>\n",
       "<style scoped>\n",
       "    .dataframe tbody tr th:only-of-type {\n",
       "        vertical-align: middle;\n",
       "    }\n",
       "\n",
       "    .dataframe tbody tr th {\n",
       "        vertical-align: top;\n",
       "    }\n",
       "\n",
       "    .dataframe thead th {\n",
       "        text-align: right;\n",
       "    }\n",
       "</style>\n",
       "<table border=\"1\" class=\"dataframe\">\n",
       "  <thead>\n",
       "    <tr style=\"text-align: right;\">\n",
       "      <th></th>\n",
       "      <th>kor</th>\n",
       "      <th>eng</th>\n",
       "      <th>cleaned_ko</th>\n",
       "      <th>cleaned_en</th>\n",
       "    </tr>\n",
       "  </thead>\n",
       "  <tbody>\n",
       "    <tr>\n",
       "      <th>0</th>\n",
       "      <td>개인용 컴퓨터 사용의 상당 부분은 \"이것보다 뛰어날 수 있느냐?\"</td>\n",
       "      <td>Much of personal computing is about \"can you t...</td>\n",
       "      <td>[개인, 용, 컴퓨터, 사용, 의, 상당, 부분, 은, 이것, 보다, 뛰어날, 수,...</td>\n",
       "      <td>[&lt;start&gt;, Much, of, personal, computing, is, a...</td>\n",
       "    </tr>\n",
       "    <tr>\n",
       "      <th>1</th>\n",
       "      <td>모든 광마우스와 마찬가지 로 이 광마우스도 책상 위에 놓는 마우스 패드를 필요로 하...</td>\n",
       "      <td>so a mention a few weeks ago about a rechargea...</td>\n",
       "      <td>[모든, 광, 마우스, 와, 마찬가지, 로, 이, 광, 마우스, 도, 책상, 위, ...</td>\n",
       "      <td>[&lt;start&gt;, so, a, mention, a, few, weeks, ago, ...</td>\n",
       "    </tr>\n",
       "    <tr>\n",
       "      <th>2</th>\n",
       "      <td>그러나 이것은 또한 책상도 필요로 하지 않는다.</td>\n",
       "      <td>Like all optical mice, But it also doesn't nee...</td>\n",
       "      <td>[그러나, 이것, 은, 또한, 책상, 도, 필요, 로, 하, 지, 않, 는다, .]</td>\n",
       "      <td>[&lt;start&gt;, Like, all, optical, mice, ,, But, it...</td>\n",
       "    </tr>\n",
       "    <tr>\n",
       "      <th>3</th>\n",
       "      <td>79.95달러하는 이 최첨단 무선 광마우스는 허공에서 팔목, 팔, 그외에 어떤 부분...</td>\n",
       "      <td>uses gyroscopic sensors to control the cursor ...</td>\n",
       "      <td>[., 달러, 하, 는, 이, 최첨단, 무선, 광, 마우스, 는, 허공, 에서, 팔...</td>\n",
       "      <td>[&lt;start&gt;, uses, gyroscopic, sensors, to, contr...</td>\n",
       "    </tr>\n",
       "    <tr>\n",
       "      <th>4</th>\n",
       "      <td>정보 관리들은 동남 아시아에서의 선박들에 대한 많은 (테러) 계획들이 실패로 돌아갔...</td>\n",
       "      <td>Intelligence officials have revealed a spate o...</td>\n",
       "      <td>[정보, 관리, 들, 은, 동남, 아시아, 에서, 의, 선박, 들, 에, 대한, 많...</td>\n",
       "      <td>[&lt;start&gt;, Intelligence, officials, have, revea...</td>\n",
       "    </tr>\n",
       "    <tr>\n",
       "      <th>...</th>\n",
       "      <td>...</td>\n",
       "      <td>...</td>\n",
       "      <td>...</td>\n",
       "      <td>...</td>\n",
       "    </tr>\n",
       "    <tr>\n",
       "      <th>94118</th>\n",
       "      <td>“우리는 3월 8일 김승연 회장과 그의 아들이 보복폭행에 가담한 혐의를 찾기 위해 ...</td>\n",
       "      <td>””We are hoping to seize material evidence to ...</td>\n",
       "      <td>[우리, 는, 월, 일, 김승연, 회장, 과, 그, 의, 아들, 이, 보복, 폭행,...</td>\n",
       "      <td>[&lt;start&gt;, We, are, hoping, to, seize, material...</td>\n",
       "    </tr>\n",
       "    <tr>\n",
       "      <th>94119</th>\n",
       "      <td>월요일 술집 종업원 6명은 김회장과 아들에게 폭행을 당했음을 진술했다고 경찰은 말했다.</td>\n",
       "      <td>” On Monday, police secured statements from si...</td>\n",
       "      <td>[월요일, 술집, 종업원, 명, 은, 김, 회장, 과, 아들, 에게, 폭행, 을, ...</td>\n",
       "      <td>[&lt;start&gt;, On, Monday, ,, police, secured, stat...</td>\n",
       "    </tr>\n",
       "    <tr>\n",
       "      <th>94120</th>\n",
       "      <td>그러나 불충분한 증거 확보로 수사에 어려움이 있다.</td>\n",
       "      <td>But the lack of material evidence is making it...</td>\n",
       "      <td>[그러나, 불, 충분, 한, 증거, 확보, 로, 수사, 에, 어려움, 이, 있, 다...</td>\n",
       "      <td>[&lt;start&gt;, But, the, lack, of, material, eviden...</td>\n",
       "    </tr>\n",
       "    <tr>\n",
       "      <th>94121</th>\n",
       "      <td>김회장과 그의 아들은 보복폭행 혐의를 강력히 부인하고 있다.</td>\n",
       "      <td>Kim and his son both deny the allegations.</td>\n",
       "      <td>[김, 회장, 과, 그, 의, 아들, 은, 보복, 폭행, 혐의, 를, 강력히, 부인...</td>\n",
       "      <td>[&lt;start&gt;, Kim, and, his, son, both, deny, the,...</td>\n",
       "    </tr>\n",
       "    <tr>\n",
       "      <th>94122</th>\n",
       "      <td>경찰은 김회장의 집무실에서 추가 증거를 찾은 이후 가능한 한 오늘 김회장과 아들을 ...</td>\n",
       "      <td>Police are planning to seek arrest warrants fo...</td>\n",
       "      <td>[경찰, 은, 김, 회장, 의, 집무실, 에서, 추가, 증거, 를, 찾, 은, 이후...</td>\n",
       "      <td>[&lt;start&gt;, Police, are, planning, to, seek, arr...</td>\n",
       "    </tr>\n",
       "  </tbody>\n",
       "</table>\n",
       "<p>78968 rows × 4 columns</p>\n",
       "</div>"
      ],
      "text/plain": [
       "                                                     kor  \\\n",
       "0                   개인용 컴퓨터 사용의 상당 부분은 \"이것보다 뛰어날 수 있느냐?\"   \n",
       "1      모든 광마우스와 마찬가지 로 이 광마우스도 책상 위에 놓는 마우스 패드를 필요로 하...   \n",
       "2                             그러나 이것은 또한 책상도 필요로 하지 않는다.   \n",
       "3      79.95달러하는 이 최첨단 무선 광마우스는 허공에서 팔목, 팔, 그외에 어떤 부분...   \n",
       "4      정보 관리들은 동남 아시아에서의 선박들에 대한 많은 (테러) 계획들이 실패로 돌아갔...   \n",
       "...                                                  ...   \n",
       "94118  “우리는 3월 8일 김승연 회장과 그의 아들이 보복폭행에 가담한 혐의를 찾기 위해 ...   \n",
       "94119   월요일 술집 종업원 6명은 김회장과 아들에게 폭행을 당했음을 진술했다고 경찰은 말했다.   \n",
       "94120                       그러나 불충분한 증거 확보로 수사에 어려움이 있다.   \n",
       "94121                  김회장과 그의 아들은 보복폭행 혐의를 강력히 부인하고 있다.   \n",
       "94122  경찰은 김회장의 집무실에서 추가 증거를 찾은 이후 가능한 한 오늘 김회장과 아들을 ...   \n",
       "\n",
       "                                                     eng  \\\n",
       "0      Much of personal computing is about \"can you t...   \n",
       "1      so a mention a few weeks ago about a rechargea...   \n",
       "2      Like all optical mice, But it also doesn't nee...   \n",
       "3      uses gyroscopic sensors to control the cursor ...   \n",
       "4      Intelligence officials have revealed a spate o...   \n",
       "...                                                  ...   \n",
       "94118  ””We are hoping to seize material evidence to ...   \n",
       "94119  ” On Monday, police secured statements from si...   \n",
       "94120  But the lack of material evidence is making it...   \n",
       "94121         Kim and his son both deny the allegations.   \n",
       "94122  Police are planning to seek arrest warrants fo...   \n",
       "\n",
       "                                              cleaned_ko  \\\n",
       "0      [개인, 용, 컴퓨터, 사용, 의, 상당, 부분, 은, 이것, 보다, 뛰어날, 수,...   \n",
       "1      [모든, 광, 마우스, 와, 마찬가지, 로, 이, 광, 마우스, 도, 책상, 위, ...   \n",
       "2         [그러나, 이것, 은, 또한, 책상, 도, 필요, 로, 하, 지, 않, 는다, .]   \n",
       "3      [., 달러, 하, 는, 이, 최첨단, 무선, 광, 마우스, 는, 허공, 에서, 팔...   \n",
       "4      [정보, 관리, 들, 은, 동남, 아시아, 에서, 의, 선박, 들, 에, 대한, 많...   \n",
       "...                                                  ...   \n",
       "94118  [우리, 는, 월, 일, 김승연, 회장, 과, 그, 의, 아들, 이, 보복, 폭행,...   \n",
       "94119  [월요일, 술집, 종업원, 명, 은, 김, 회장, 과, 아들, 에게, 폭행, 을, ...   \n",
       "94120  [그러나, 불, 충분, 한, 증거, 확보, 로, 수사, 에, 어려움, 이, 있, 다...   \n",
       "94121  [김, 회장, 과, 그, 의, 아들, 은, 보복, 폭행, 혐의, 를, 강력히, 부인...   \n",
       "94122  [경찰, 은, 김, 회장, 의, 집무실, 에서, 추가, 증거, 를, 찾, 은, 이후...   \n",
       "\n",
       "                                              cleaned_en  \n",
       "0      [<start>, Much, of, personal, computing, is, a...  \n",
       "1      [<start>, so, a, mention, a, few, weeks, ago, ...  \n",
       "2      [<start>, Like, all, optical, mice, ,, But, it...  \n",
       "3      [<start>, uses, gyroscopic, sensors, to, contr...  \n",
       "4      [<start>, Intelligence, officials, have, revea...  \n",
       "...                                                  ...  \n",
       "94118  [<start>, We, are, hoping, to, seize, material...  \n",
       "94119  [<start>, On, Monday, ,, police, secured, stat...  \n",
       "94120  [<start>, But, the, lack, of, material, eviden...  \n",
       "94121  [<start>, Kim, and, his, son, both, deny, the,...  \n",
       "94122  [<start>, Police, are, planning, to, seek, arr...  \n",
       "\n",
       "[78968 rows x 4 columns]"
      ]
     },
     "execution_count": 75,
     "metadata": {},
     "output_type": "execute_result"
    }
   ],
   "source": [
    "raw_df"
   ]
  },
  {
   "cell_type": "code",
   "execution_count": 76,
   "metadata": {},
   "outputs": [
    {
     "data": {
      "text/html": [
       "<div>\n",
       "<style scoped>\n",
       "    .dataframe tbody tr th:only-of-type {\n",
       "        vertical-align: middle;\n",
       "    }\n",
       "\n",
       "    .dataframe tbody tr th {\n",
       "        vertical-align: top;\n",
       "    }\n",
       "\n",
       "    .dataframe thead th {\n",
       "        text-align: right;\n",
       "    }\n",
       "</style>\n",
       "<table border=\"1\" class=\"dataframe\">\n",
       "  <thead>\n",
       "    <tr style=\"text-align: right;\">\n",
       "      <th></th>\n",
       "      <th>cleaned_ko</th>\n",
       "      <th>cleaned_en</th>\n",
       "    </tr>\n",
       "  </thead>\n",
       "  <tbody>\n",
       "    <tr>\n",
       "      <th>0</th>\n",
       "      <td>[개인, 용, 컴퓨터, 사용, 의, 상당, 부분, 은, 이것, 보다, 뛰어날, 수,...</td>\n",
       "      <td>[&lt;start&gt;, Much, of, personal, computing, is, a...</td>\n",
       "    </tr>\n",
       "    <tr>\n",
       "      <th>1</th>\n",
       "      <td>[모든, 광, 마우스, 와, 마찬가지, 로, 이, 광, 마우스, 도, 책상, 위, ...</td>\n",
       "      <td>[&lt;start&gt;, so, a, mention, a, few, weeks, ago, ...</td>\n",
       "    </tr>\n",
       "    <tr>\n",
       "      <th>2</th>\n",
       "      <td>[그러나, 이것, 은, 또한, 책상, 도, 필요, 로, 하, 지, 않, 는다, .]</td>\n",
       "      <td>[&lt;start&gt;, Like, all, optical, mice, ,, But, it...</td>\n",
       "    </tr>\n",
       "    <tr>\n",
       "      <th>8</th>\n",
       "      <td>[결정, 적, 인, 순간, 에, 그, 들, 의, 능력, 을, 증가, 시켜, 줄, 그...</td>\n",
       "      <td>[&lt;start&gt;, Something, that, will, boost, their,...</td>\n",
       "    </tr>\n",
       "    <tr>\n",
       "      <th>9</th>\n",
       "      <td>[연구가, 들, 이, 이미, 커피, 대체, 품, 으로서, 음식, 대용, 과자, 나,...</td>\n",
       "      <td>[&lt;start&gt;, Researchers, are, already, exploring...</td>\n",
       "    </tr>\n",
       "    <tr>\n",
       "      <th>...</th>\n",
       "      <td>...</td>\n",
       "      <td>...</td>\n",
       "    </tr>\n",
       "    <tr>\n",
       "      <th>94118</th>\n",
       "      <td>[우리, 는, 월, 일, 김승연, 회장, 과, 그, 의, 아들, 이, 보복, 폭행,...</td>\n",
       "      <td>[&lt;start&gt;, We, are, hoping, to, seize, material...</td>\n",
       "    </tr>\n",
       "    <tr>\n",
       "      <th>94119</th>\n",
       "      <td>[월요일, 술집, 종업원, 명, 은, 김, 회장, 과, 아들, 에게, 폭행, 을, ...</td>\n",
       "      <td>[&lt;start&gt;, On, Monday, ,, police, secured, stat...</td>\n",
       "    </tr>\n",
       "    <tr>\n",
       "      <th>94120</th>\n",
       "      <td>[그러나, 불, 충분, 한, 증거, 확보, 로, 수사, 에, 어려움, 이, 있, 다...</td>\n",
       "      <td>[&lt;start&gt;, But, the, lack, of, material, eviden...</td>\n",
       "    </tr>\n",
       "    <tr>\n",
       "      <th>94121</th>\n",
       "      <td>[김, 회장, 과, 그, 의, 아들, 은, 보복, 폭행, 혐의, 를, 강력히, 부인...</td>\n",
       "      <td>[&lt;start&gt;, Kim, and, his, son, both, deny, the,...</td>\n",
       "    </tr>\n",
       "    <tr>\n",
       "      <th>94122</th>\n",
       "      <td>[경찰, 은, 김, 회장, 의, 집무실, 에서, 추가, 증거, 를, 찾, 은, 이후...</td>\n",
       "      <td>[&lt;start&gt;, Police, are, planning, to, seek, arr...</td>\n",
       "    </tr>\n",
       "  </tbody>\n",
       "</table>\n",
       "<p>63139 rows × 2 columns</p>\n",
       "</div>"
      ],
      "text/plain": [
       "                                              cleaned_ko  \\\n",
       "0      [개인, 용, 컴퓨터, 사용, 의, 상당, 부분, 은, 이것, 보다, 뛰어날, 수,...   \n",
       "1      [모든, 광, 마우스, 와, 마찬가지, 로, 이, 광, 마우스, 도, 책상, 위, ...   \n",
       "2         [그러나, 이것, 은, 또한, 책상, 도, 필요, 로, 하, 지, 않, 는다, .]   \n",
       "8      [결정, 적, 인, 순간, 에, 그, 들, 의, 능력, 을, 증가, 시켜, 줄, 그...   \n",
       "9      [연구가, 들, 이, 이미, 커피, 대체, 품, 으로서, 음식, 대용, 과자, 나,...   \n",
       "...                                                  ...   \n",
       "94118  [우리, 는, 월, 일, 김승연, 회장, 과, 그, 의, 아들, 이, 보복, 폭행,...   \n",
       "94119  [월요일, 술집, 종업원, 명, 은, 김, 회장, 과, 아들, 에게, 폭행, 을, ...   \n",
       "94120  [그러나, 불, 충분, 한, 증거, 확보, 로, 수사, 에, 어려움, 이, 있, 다...   \n",
       "94121  [김, 회장, 과, 그, 의, 아들, 은, 보복, 폭행, 혐의, 를, 강력히, 부인...   \n",
       "94122  [경찰, 은, 김, 회장, 의, 집무실, 에서, 추가, 증거, 를, 찾, 은, 이후...   \n",
       "\n",
       "                                              cleaned_en  \n",
       "0      [<start>, Much, of, personal, computing, is, a...  \n",
       "1      [<start>, so, a, mention, a, few, weeks, ago, ...  \n",
       "2      [<start>, Like, all, optical, mice, ,, But, it...  \n",
       "8      [<start>, Something, that, will, boost, their,...  \n",
       "9      [<start>, Researchers, are, already, exploring...  \n",
       "...                                                  ...  \n",
       "94118  [<start>, We, are, hoping, to, seize, material...  \n",
       "94119  [<start>, On, Monday, ,, police, secured, stat...  \n",
       "94120  [<start>, But, the, lack, of, material, eviden...  \n",
       "94121  [<start>, Kim, and, his, son, both, deny, the,...  \n",
       "94122  [<start>, Police, are, planning, to, seek, arr...  \n",
       "\n",
       "[63139 rows x 2 columns]"
      ]
     },
     "execution_count": 76,
     "metadata": {},
     "output_type": "execute_result"
    }
   ],
   "source": [
    "\n",
    "# 40 이하 길이인 데이터만 남기기\n",
    "cleaned_corpus_df = raw_df[raw_df['cleaned_ko'].map(lambda x: len(x) < 41) & raw_df['cleaned_en'].map(lambda x: len(x) < 41)].iloc[:,2:4]\n",
    "cleaned_corpus_df"
   ]
  },
  {
   "cell_type": "markdown",
   "metadata": {},
   "source": [
    "#### 데이터 전처리 : 토큰화"
   ]
  },
  {
   "cell_type": "code",
   "execution_count": 7,
   "metadata": {},
   "outputs": [],
   "source": [
    "# def tokenize(corpus):\n",
    "#     tokenizer = tf.keras.preprocessing.text.Tokenizer(filters='',num_words=10000)\n",
    "#     tokenizer.fit_on_texts(corpus)\n",
    "\n",
    "#     tensor = tokenizer.texts_to_sequences(corpus)\n",
    "\n",
    "#     tensor = tf.keras.preprocessing.sequence.pad_sequences(tensor, padding='post')\n",
    "\n",
    "#     return tensor, tokenizer"
   ]
  },
  {
   "cell_type": "code",
   "execution_count": 77,
   "metadata": {},
   "outputs": [
    {
     "name": "stdout",
     "output_type": "stream",
     "text": [
      "한국어 문장 : ['개인', '용', '컴퓨터', '사용', '의', '상당', '부분', '은', '이것', '보다', '뛰어날', '수', '있', '느냐', '?']\n",
      "영어 문장 : ['<start>', 'Much', 'of', 'personal', 'computing', 'is', 'about', 'can', 'you', 'top', 'this', '?', '<end>']\n"
     ]
    }
   ],
   "source": [
    "# 리스트로 옮기기\n",
    "corpus_ko = list(cleaned_corpus_df['cleaned_ko'])\n",
    "corpus_en = list(cleaned_corpus_df['cleaned_en'])\n",
    "print(f'한국어 문장 : {corpus_ko[0]}')\n",
    "print(f'영어 문장 : {corpus_en[0]}')"
   ]
  },
  {
   "cell_type": "code",
   "execution_count": 78,
   "metadata": {},
   "outputs": [],
   "source": [
    "# 정제된 텍스트를 아래 tokenize() 함수를 사용해 토큰화하고 텐서로 변환\n",
    "def tokenize(corpus):\n",
    "    tokenizer = tf.keras.preprocessing.text.Tokenizer(filters='')\n",
    "    tokenizer.fit_on_texts(corpus)\n",
    "\n",
    "    tensor = tokenizer.texts_to_sequences(corpus)\n",
    "\n",
    "    tensor = tf.keras.preprocessing.sequence.pad_sequences(tensor, padding='post')\n",
    "\n",
    "    return tensor, tokenizer"
   ]
  },
  {
   "cell_type": "code",
   "execution_count": 79,
   "metadata": {},
   "outputs": [
    {
     "name": "stdout",
     "output_type": "stream",
     "text": [
      "Korean Vocab Size: 37078\n",
      "English Vocab Size: 38540\n"
     ]
    }
   ],
   "source": [
    "# 토큰화하기\n",
    "enc_tensor, enc_tokenizer = tokenize(corpus_ko)\n",
    "dec_tensor, dec_tokenizer = tokenize(corpus_en)\n",
    "\n",
    "# 훈련 데이터와 검증 데이터로 분리하기\n",
    "enc_train, enc_val, dec_train, dec_val = \\\n",
    "train_test_split(enc_tensor, dec_tensor, test_size=0.2)\n",
    "\n",
    "#분리된 단어장 크기 확인 \n",
    "print(\"Korean Vocab Size:\", len(enc_tokenizer.index_word))\n",
    "print(\"English Vocab Size:\", len(dec_tokenizer.index_word))"
   ]
  },
  {
   "cell_type": "markdown",
   "metadata": {},
   "source": [
    "### 모델 설계\n",
    "- 각각 1개의 GRU를 갖는 Encoder-Decoder 구조 설계\n",
    "- Encoder \n",
    "    - 모든 Time-step의 Hidden State를 출력으로\n",
    "- Decoder \n",
    "    - Encoder의 출력과 Decoder의 t-1 Step의 Hidden State로 Attention을 취함 -> tStep Hidden Stat를 만들어 냄\n",
    "    - tStep의 단어로 예측된 결과 <-> 실제 정답과 대조 => Loss 값을 구함\n",
    "    - tStep의 Hidden State t+1 Step의 Hidden State를 만들기 위해 다시 Decoder로 전달\n",
    "    - t=1 일때 Hidden State 는 Encoder의 Final State를 사용\n",
    "    - Attention은 Bahdanau을 사용\n",
    "    \n",
    "    "
   ]
  },
  {
   "cell_type": "code",
   "execution_count": 86,
   "metadata": {},
   "outputs": [],
   "source": [
    "class BahdanauAttention(tf.keras.layers.Layer):\n",
    "    def __init__(self, units):\n",
    "        super(BahdanauAttention, self).__init__()\n",
    "        self.w_dec = tf.keras.layers.Dense(units)\n",
    "        self.w_enc = tf.keras.layers.Dense(units)\n",
    "        self.w_com = tf.keras.layers.Dense(1)\n",
    "    \n",
    "    def call(self, h_enc, h_dec):\n",
    "        # h_enc shape: [batch x length x units]\n",
    "        # h_dec shape: [batch x units]\n",
    "\n",
    "        h_enc = self.w_enc(h_enc)\n",
    "        h_dec = tf.expand_dims(h_dec, 1)\n",
    "        h_dec = self.w_dec(h_dec)\n",
    "\n",
    "        score = self.w_com(tf.nn.tanh(h_dec + h_enc))\n",
    "        \n",
    "        attn = tf.nn.softmax(score, axis=1)\n",
    "\n",
    "        context_vec = attn * h_enc\n",
    "        context_vec = tf.reduce_sum(context_vec, axis=1)\n",
    "\n",
    "        return context_vec, attn"
   ]
  },
  {
   "cell_type": "code",
   "execution_count": 87,
   "metadata": {},
   "outputs": [],
   "source": [
    "class Encoder(tf.keras.Model):\n",
    "    def __init__(self, vocab_size, embedding_dim, enc_units):\n",
    "        super(Encoder, self).__init__()\n",
    "\n",
    "        self.enc_units = enc_units\n",
    "        self.embedding = tf.keras.layers.Embedding(vocab_size, embedding_dim)\n",
    "        self.dropout = tf.keras.layers.Dropout(0.1)\n",
    "\n",
    "        self.gru = tf.keras.layers.GRU(enc_units,\n",
    "                                       return_sequences=True)\n",
    "\n",
    "    def call(self, x):\n",
    "        out = self.embedding(x)\n",
    "        out = self.gru(out)\n",
    "\n",
    "        return out"
   ]
  },
  {
   "cell_type": "code",
   "execution_count": 88,
   "metadata": {},
   "outputs": [],
   "source": [
    "class Decoder(tf.keras.Model):\n",
    "    def __init__(self, vocab_size, embedding_dim, dec_units):\n",
    "        super(Decoder, self).__init__()\n",
    "        self.dec_units = dec_units\n",
    "        self.embedding = tf.keras.layers.Embedding(vocab_size, embedding_dim)\n",
    "        self.gru = tf.keras.layers.GRU(dec_units,\n",
    "                                       return_sequences=True,\n",
    "                                       return_state=True)\n",
    "        self.fc = tf.keras.layers.Dense(vocab_size)\n",
    "\n",
    "        self.attention = BahdanauAttention(self.dec_units)\n",
    "\n",
    "    def call(self, x, h_dec, enc_out):\n",
    "        context_vec, attn = self.attention(enc_out, h_dec)\n",
    "\n",
    "        out = self.embedding(x)\n",
    "        out = tf.concat([tf.expand_dims(context_vec, 1), out], axis=-1)\n",
    "\n",
    "        out, h_dec = self.gru(out)\n",
    "        out = tf.reshape(out, (-1, out.shape[2]))\n",
    "        out = self.fc(out)\n",
    "\n",
    "        return out, h_dec, attn"
   ]
  },
  {
   "cell_type": "code",
   "execution_count": 90,
   "metadata": {},
   "outputs": [
    {
     "name": "stdout",
     "output_type": "stream",
     "text": [
      "Encoder Output: (64, 30, 512)\n",
      "Decoder Output: (64, 38541)\n",
      "Decoder Hidden State: (64, 512)\n",
      "Attention: (64, 30, 1)\n"
     ]
    }
   ],
   "source": [
    "# 코드를 실행하세요.\n",
    "\n",
    "BATCH_SIZE     = 64\n",
    "SRC_VOCAB_SIZE = len(enc_tokenizer.index_word) + 1\n",
    "TGT_VOCAB_SIZE = len(dec_tokenizer.index_word) + 1\n",
    "\n",
    "units         = 512\n",
    "embedding_dim = 512\n",
    "\n",
    "encoder = Encoder(SRC_VOCAB_SIZE, embedding_dim, units)\n",
    "decoder = Decoder(TGT_VOCAB_SIZE, embedding_dim, units)\n",
    "\n",
    "# sample input\n",
    "sequence_len = 30\n",
    "\n",
    "sample_enc = tf.random.uniform((BATCH_SIZE, sequence_len))\n",
    "sample_output = encoder(sample_enc)\n",
    "\n",
    "print ('Encoder Output:', sample_output.shape)\n",
    "\n",
    "sample_state = tf.random.uniform((BATCH_SIZE, units))\n",
    "\n",
    "sample_logits, h_dec, attn = decoder(tf.random.uniform((BATCH_SIZE, 1)),\n",
    "                                     sample_state, sample_output)\n",
    "\n",
    "print ('Decoder Output:', sample_logits.shape)\n",
    "print ('Decoder Hidden State:', h_dec.shape)\n",
    "print ('Attention:', attn.shape)"
   ]
  },
  {
   "cell_type": "markdown",
   "metadata": {},
   "source": [
    "### 모델 훈련 \n",
    "#### Optimizer & Loss"
   ]
  },
  {
   "cell_type": "code",
   "execution_count": 91,
   "metadata": {},
   "outputs": [],
   "source": [
    "optimizer = tf.keras.optimizers.Adam()\n",
    "loss_object = tf.keras.losses.SparseCategoricalCrossentropy(\n",
    "    from_logits=True, reduction='none')\n",
    "\n",
    "def loss_function(real, pred):\n",
    "    mask = tf.math.logical_not(tf.math.equal(real, 0))\n",
    "    loss = loss_object(real, pred)\n",
    "    \n",
    "    mask = tf.cast(mask, dtype=loss.dtype)\n",
    "    loss *= mask\n",
    "    \n",
    "    return tf.reduce_mean(loss)"
   ]
  },
  {
   "cell_type": "markdown",
   "metadata": {},
   "source": [
    "#### train_step 구현\n",
    "- train_step()을 통해 학습에 필요한 것을 가져와 Loss를 계산한 후 반환하는 함수"
   ]
  },
  {
   "cell_type": "code",
   "execution_count": 92,
   "metadata": {},
   "outputs": [],
   "source": [
    "@tf.function# 텐서플로우 gpu 연산 활성화\n",
    "def train_step(src, tgt, encoder, decoder, optimizer, dec_tok):\n",
    "    bsz = src.shape[0]\n",
    "    loss = 0\n",
    "\n",
    "    with tf.GradientTape() as tape:\n",
    "        enc_out = encoder(src)\n",
    "        h_dec = enc_out[:, -1]\n",
    "        \n",
    "        dec_src = tf.expand_dims([dec_tok.word_index['<start>']] * bsz, 1)\n",
    "\n",
    "        for t in range(1, tgt.shape[1]):\n",
    "            pred, h_dec, _ = decoder(dec_src, h_dec, enc_out)\n",
    "\n",
    "            loss += loss_function(tgt[:, t], pred)\n",
    "            dec_src = tf.expand_dims(tgt[:, t], 1)\n",
    "        \n",
    "    batch_loss = (loss / int(tgt.shape[1]))\n",
    "\n",
    "    variables = encoder.trainable_variables + decoder.trainable_variables\n",
    "    gradients = tape.gradient(loss, variables)\n",
    "    optimizer.apply_gradients(zip(gradients, variables))\n",
    "    \n",
    "    return batch_loss"
   ]
  },
  {
   "cell_type": "markdown",
   "metadata": {},
   "source": [
    "#### 훈련 시작하기"
   ]
  },
  {
   "cell_type": "code",
   "execution_count": 93,
   "metadata": {},
   "outputs": [
    {
     "name": "stderr",
     "output_type": "stream",
     "text": [
      "Epoch  1: 100%|██████████| 790/790 [06:28<00:00,  2.03it/s, Loss 4.0108] \n",
      "Epoch  2: 100%|██████████| 790/790 [05:43<00:00,  2.30it/s, Loss 3.9686]\n",
      "Epoch  3: 100%|██████████| 790/790 [05:43<00:00,  2.30it/s, Loss 3.9699]\n",
      "Epoch  4: 100%|██████████| 790/790 [05:42<00:00,  2.31it/s, Loss 3.9702]\n",
      "Epoch  5: 100%|██████████| 790/790 [05:39<00:00,  2.33it/s, Loss 3.9703]\n",
      "Epoch  6: 100%|██████████| 790/790 [05:54<00:00,  2.23it/s, Loss 3.9695]\n",
      "Epoch  7: 100%|██████████| 790/790 [05:40<00:00,  2.32it/s, Loss 3.9703]\n",
      "Epoch  8: 100%|██████████| 790/790 [05:40<00:00,  2.32it/s, Loss 3.9700]\n",
      "Epoch  9: 100%|██████████| 790/790 [05:40<00:00,  2.32it/s, Loss 3.9701]\n",
      "Epoch 10: 100%|██████████| 790/790 [05:50<00:00,  2.25it/s, Loss 3.9703]\n"
     ]
    }
   ],
   "source": [
    "from tqdm import tqdm    # tqdm\n",
    "import random\n",
    "\n",
    "EPOCHS = 10\n",
    "\n",
    "for epoch in range(EPOCHS):\n",
    "    total_loss = 0\n",
    "    \n",
    "    idx_list = list(range(0, enc_train.shape[0], BATCH_SIZE))\n",
    "    random.shuffle(idx_list)\n",
    "    t = tqdm(idx_list)    # tqdm\n",
    "\n",
    "    for (batch, idx) in enumerate(t):\n",
    "        batch_loss = train_step(enc_train[idx:idx+BATCH_SIZE],\n",
    "                                dec_train[idx:idx+BATCH_SIZE],\n",
    "                                encoder,\n",
    "                                decoder,\n",
    "                                optimizer,\n",
    "                                dec_tokenizer)\n",
    "    \n",
    "        total_loss += batch_loss\n",
    "        \n",
    "        t.set_description_str('Epoch %2d' % (epoch + 1))    # tqdm\n",
    "        t.set_postfix_str('Loss %.4f' % (total_loss.numpy() / (batch + 1)))    # tqdm"
   ]
  },
  {
   "cell_type": "markdown",
   "metadata": {},
   "source": [
    "### 실습하기"
   ]
  },
  {
   "cell_type": "code",
   "execution_count": 94,
   "metadata": {},
   "outputs": [
    {
     "name": "stderr",
     "output_type": "stream",
     "text": [
      "Epoch  1: 100%|██████████| 790/790 [05:41<00:00,  2.31it/s, Loss 3.9707]\n",
      "Test Epoch  1: 100%|██████████| 198/198 [00:30<00:00,  6.55it/s, Test Loss 4.0428]\n",
      "Epoch  2: 100%|██████████| 790/790 [05:41<00:00,  2.31it/s, Loss 3.9703]\n",
      "Test Epoch  2: 100%|██████████| 198/198 [00:16<00:00, 12.27it/s, Test Loss 4.0483]\n",
      "Epoch  3: 100%|██████████| 790/790 [05:44<00:00,  2.29it/s, Loss 3.9698]\n",
      "Test Epoch  3: 100%|██████████| 198/198 [00:16<00:00, 12.20it/s, Test Loss 4.0550]\n",
      "Epoch  4: 100%|██████████| 790/790 [05:46<00:00,  2.28it/s, Loss 3.9703]\n",
      "Test Epoch  4: 100%|██████████| 198/198 [00:16<00:00, 12.18it/s, Test Loss 4.0475]\n",
      "Epoch  5: 100%|██████████| 790/790 [05:46<00:00,  2.28it/s, Loss 3.9705]\n",
      "Test Epoch  5: 100%|██████████| 198/198 [00:16<00:00, 12.17it/s, Test Loss 4.0570]\n",
      "Epoch  6: 100%|██████████| 790/790 [05:46<00:00,  2.28it/s, Loss 3.9702]\n",
      "Test Epoch  6: 100%|██████████| 198/198 [00:16<00:00, 12.15it/s, Test Loss 4.0578]\n",
      "Epoch  7: 100%|██████████| 790/790 [05:47<00:00,  2.27it/s, Loss 3.9700]\n",
      "Test Epoch  7: 100%|██████████| 198/198 [00:16<00:00, 12.09it/s, Test Loss 4.0878]\n",
      "Epoch  8: 100%|██████████| 790/790 [05:47<00:00,  2.27it/s, Loss 3.9703]\n",
      "Test Epoch  8: 100%|██████████| 198/198 [00:16<00:00, 12.11it/s, Test Loss 4.0568]\n",
      "Epoch  9: 100%|██████████| 790/790 [05:47<00:00,  2.27it/s, Loss 3.9706]\n",
      "Test Epoch  9: 100%|██████████| 198/198 [00:16<00:00, 12.12it/s, Test Loss 4.0626]\n",
      "Epoch 10: 100%|██████████| 790/790 [05:47<00:00,  2.27it/s, Loss 3.9703]\n",
      "Test Epoch 10: 100%|██████████| 198/198 [00:16<00:00, 12.05it/s, Test Loss 4.0595]\n"
     ]
    }
   ],
   "source": [
    "# eval_step() 정의하기\n",
    "# train_step() 이후 eval_step() 진행하도록 소스 수정하기\n",
    "\n",
    "# Define eval_step\n",
    "\n",
    "@tf.function\n",
    "def eval_step(src, tgt, encoder, decoder, dec_tok):\n",
    "    bsz = src.shape[0]\n",
    "    loss = 0\n",
    "\n",
    "    enc_out = encoder(src)\n",
    "\n",
    "    h_dec = enc_out[:, -1]\n",
    "\n",
    "    dec_src = tf.expand_dims([dec_tok.word_index['<start>']] * bsz, 1)\n",
    "\n",
    "    for t in range(1, tgt.shape[1]):\n",
    "        pred, h_dec, _ = decoder(dec_src, h_dec, enc_out)\n",
    "\n",
    "        loss += loss_function(tgt[:, t], pred)\n",
    "        dec_src = tf.expand_dims(tgt[:, t], 1)\n",
    "\n",
    "    batch_loss = (loss / int(tgt.shape[1]))\n",
    "\n",
    "    return batch_loss\n",
    "\n",
    "\n",
    "# Training Process\n",
    "\n",
    "from tqdm import tqdm\n",
    "\n",
    "EPOCHS = 10\n",
    "\n",
    "for epoch in range(EPOCHS):\n",
    "    total_loss = 0\n",
    "\n",
    "    idx_list = list(range(0, enc_train.shape[0], BATCH_SIZE))\n",
    "    random.shuffle(idx_list)\n",
    "    t = tqdm(idx_list)\n",
    "\n",
    "    for (batch, idx) in enumerate(t):\n",
    "        batch_loss = train_step(enc_train[idx:idx+BATCH_SIZE],\n",
    "                                dec_train[idx:idx+BATCH_SIZE],\n",
    "                                encoder,\n",
    "                                decoder,\n",
    "                                optimizer,\n",
    "                                dec_tokenizer)\n",
    "\n",
    "        total_loss += batch_loss\n",
    "\n",
    "        t.set_description_str('Epoch %2d' % (epoch + 1))\n",
    "        t.set_postfix_str('Loss %.4f' % (total_loss.numpy() / (batch + 1)))\n",
    "\n",
    "    test_loss = 0\n",
    "\n",
    "    idx_list = list(range(0, enc_val.shape[0], BATCH_SIZE))\n",
    "    random.shuffle(idx_list)\n",
    "    t = tqdm(idx_list)\n",
    "\n",
    "    for (test_batch, idx) in enumerate(t):\n",
    "        test_batch_loss = eval_step(enc_val[idx:idx+BATCH_SIZE],\n",
    "                                    dec_val[idx:idx+BATCH_SIZE],\n",
    "                                    encoder,\n",
    "                                    decoder,\n",
    "                                    dec_tokenizer)\n",
    "\n",
    "        test_loss += test_batch_loss\n",
    "\n",
    "        t.set_description_str('Test Epoch %2d' % (epoch + 1))\n",
    "        t.set_postfix_str('Test Loss %.4f' % (test_loss.numpy() / (test_batch + 1)))"
   ]
  },
  {
   "cell_type": "markdown",
   "metadata": {},
   "source": [
    "### 평가하기"
   ]
  },
  {
   "cell_type": "code",
   "execution_count": 100,
   "metadata": {},
   "outputs": [],
   "source": [
    "\n",
    "mecab = Mecab()\n",
    "\n",
    "def preprocess_sentence(sentence):\n",
    "    sentence = re.sub(r\"([?.!,])\", r\" \\1 \", sentence)\n",
    "    sentence = re.sub(r'[\" \"]+', \" \", sentence)\n",
    "    sentence = re.sub(r\"[^ㄱ-ㅎ|가-힣?.!,]+\", \" \", sentence)\n",
    "    sentence = mecab.morphs(sentence)\n",
    "\n",
    "    return sentence\n",
    "    \n",
    "\n",
    "def evaluate(sentence, encoder, decoder):\n",
    "    attention = np.zeros((dec_tensor.shape[-1], enc_tensor.shape[-1]))\n",
    "    \n",
    "    sentence = preprocess_sentence(sentence)\n",
    "    inputs = enc_tokenizer.texts_to_sequences([sentence])\n",
    "    inputs = tf.keras.preprocessing.sequence.pad_sequences(inputs,\n",
    "                                                           maxlen=enc_tensor.shape[-1],\n",
    "                                                           padding='post')\n",
    "\n",
    "    result = ''\n",
    "\n",
    "    enc_out = encoder(inputs)\n",
    "\n",
    "    dec_hidden = enc_out[:, -1]\n",
    "    dec_input = tf.expand_dims([dec_tokenizer.word_index['<start>']], 0)\n",
    "\n",
    "    for t in range(dec_tensor.shape[-1]):\n",
    "        predictions, dec_hidden, attention_weights = decoder(dec_input,\n",
    "                                                             dec_hidden,\n",
    "                                                             enc_out)\n",
    "\n",
    "        attention_weights = tf.reshape(attention_weights, (-1, ))\n",
    "        attention[t] = attention_weights.numpy()\n",
    "\n",
    "        predicted_id = tf.argmax(tf.math.softmax(predictions, axis=-1)[0]).numpy()\n",
    "\n",
    "        result += dec_tokenizer.index_word[predicted_id] + ' '\n",
    "\n",
    "        if dec_tokenizer.index_word[predicted_id] == '<end>':\n",
    "            return result, sentence, attention\n",
    "\n",
    "        dec_input = tf.expand_dims([predicted_id], 0)\n",
    "\n",
    "    return result, sentence, attention\n",
    "\n",
    "\n",
    "def plot_attention(attention, sentence, predicted_sentence):\n",
    "    fig = plt.figure(figsize=(10,10))\n",
    "    ax = fig.add_subplot(1, 1, 1)\n",
    "    ax.matshow(attention, cmap='viridis')\n",
    "\n",
    "    fontdict = {'fontsize': 14}\n",
    "\n",
    "    ax.set_xticklabels([''] + sentence, fontdict=fontdict, rotation=90)\n",
    "    ax.set_yticklabels([''] + predicted_sentence, fontdict=fontdict)\n",
    "\n",
    "    ax.xaxis.set_major_locator(ticker.MultipleLocator(1))\n",
    "    ax.yaxis.set_major_locator(ticker.MultipleLocator(1))\n",
    "\n",
    "    plt.show()\n",
    "\n",
    "\n",
    "def translate(sentence, encoder, decoder):\n",
    "    result, sentence, attention = evaluate(sentence, encoder, decoder)\n",
    "\n",
    "    print('Input: %s' % (sentence))\n",
    "    print('Predicted translation: {}'.format(result))\n",
    "    \n",
    "    attention = attention[:len(result), :len(sentence)]\n",
    "    plot_attention(attention, sentence, result.split(' '))"
   ]
  },
  {
   "cell_type": "markdown",
   "metadata": {},
   "source": [
    "### 예문"
   ]
  },
  {
   "cell_type": "code",
   "execution_count": 101,
   "metadata": {},
   "outputs": [],
   "source": [
    "## 예문 ##\n",
    "# K1) 오바마는 대통령이다.\n",
    "# K2) 시민들은 도시 속에 산다.\n",
    "# K3) 커피는 필요 없다.\n",
    "# K4) 일곱 명의 사망자가 발생했다.\n",
    "\n",
    "## 제출 ##\n",
    "# E1) obama is the president . <end>\n",
    "# E2) people are victims of the city . <end>\n",
    "# E2) the price is not enough . <end>\n",
    "# E2) seven people have died . <end>"
   ]
  },
  {
   "cell_type": "code",
   "execution_count": 102,
   "metadata": {},
   "outputs": [
    {
     "name": "stdout",
     "output_type": "stream",
     "text": [
      "Input: ['오바마', '는', '대통령', '이', '다', '.']\n",
      "Predicted translation: the the the the the the the the the the the the the the the the the the the the the the the the the the the the the the the the the the the the the the the the \n"
     ]
    },
    {
     "name": "stderr",
     "output_type": "stream",
     "text": [
      "/home/aiffel/anaconda3/lib/python3.7/site-packages/matplotlib/backends/backend_agg.py:211: RuntimeWarning: Glyph 50724 missing from current font.\n",
      "  font.set_text(s, 0.0, flags=flags)\n",
      "/home/aiffel/anaconda3/lib/python3.7/site-packages/matplotlib/backends/backend_agg.py:211: RuntimeWarning: Glyph 48148 missing from current font.\n",
      "  font.set_text(s, 0.0, flags=flags)\n",
      "/home/aiffel/anaconda3/lib/python3.7/site-packages/matplotlib/backends/backend_agg.py:211: RuntimeWarning: Glyph 47560 missing from current font.\n",
      "  font.set_text(s, 0.0, flags=flags)\n",
      "/home/aiffel/anaconda3/lib/python3.7/site-packages/matplotlib/backends/backend_agg.py:211: RuntimeWarning: Glyph 45716 missing from current font.\n",
      "  font.set_text(s, 0.0, flags=flags)\n",
      "/home/aiffel/anaconda3/lib/python3.7/site-packages/matplotlib/backends/backend_agg.py:211: RuntimeWarning: Glyph 45824 missing from current font.\n",
      "  font.set_text(s, 0.0, flags=flags)\n",
      "/home/aiffel/anaconda3/lib/python3.7/site-packages/matplotlib/backends/backend_agg.py:211: RuntimeWarning: Glyph 53685 missing from current font.\n",
      "  font.set_text(s, 0.0, flags=flags)\n",
      "/home/aiffel/anaconda3/lib/python3.7/site-packages/matplotlib/backends/backend_agg.py:211: RuntimeWarning: Glyph 47161 missing from current font.\n",
      "  font.set_text(s, 0.0, flags=flags)\n",
      "/home/aiffel/anaconda3/lib/python3.7/site-packages/matplotlib/backends/backend_agg.py:211: RuntimeWarning: Glyph 51060 missing from current font.\n",
      "  font.set_text(s, 0.0, flags=flags)\n",
      "/home/aiffel/anaconda3/lib/python3.7/site-packages/matplotlib/backends/backend_agg.py:211: RuntimeWarning: Glyph 45796 missing from current font.\n",
      "  font.set_text(s, 0.0, flags=flags)\n",
      "/home/aiffel/anaconda3/lib/python3.7/site-packages/matplotlib/backends/backend_agg.py:180: RuntimeWarning: Glyph 50724 missing from current font.\n",
      "  font.set_text(s, 0, flags=flags)\n",
      "/home/aiffel/anaconda3/lib/python3.7/site-packages/matplotlib/backends/backend_agg.py:180: RuntimeWarning: Glyph 48148 missing from current font.\n",
      "  font.set_text(s, 0, flags=flags)\n",
      "/home/aiffel/anaconda3/lib/python3.7/site-packages/matplotlib/backends/backend_agg.py:180: RuntimeWarning: Glyph 47560 missing from current font.\n",
      "  font.set_text(s, 0, flags=flags)\n",
      "/home/aiffel/anaconda3/lib/python3.7/site-packages/matplotlib/backends/backend_agg.py:176: RuntimeWarning: Glyph 45716 missing from current font.\n",
      "  font.load_char(ord(s), flags=flags)\n",
      "/home/aiffel/anaconda3/lib/python3.7/site-packages/matplotlib/backends/backend_agg.py:180: RuntimeWarning: Glyph 45824 missing from current font.\n",
      "  font.set_text(s, 0, flags=flags)\n",
      "/home/aiffel/anaconda3/lib/python3.7/site-packages/matplotlib/backends/backend_agg.py:180: RuntimeWarning: Glyph 53685 missing from current font.\n",
      "  font.set_text(s, 0, flags=flags)\n",
      "/home/aiffel/anaconda3/lib/python3.7/site-packages/matplotlib/backends/backend_agg.py:180: RuntimeWarning: Glyph 47161 missing from current font.\n",
      "  font.set_text(s, 0, flags=flags)\n",
      "/home/aiffel/anaconda3/lib/python3.7/site-packages/matplotlib/backends/backend_agg.py:176: RuntimeWarning: Glyph 51060 missing from current font.\n",
      "  font.load_char(ord(s), flags=flags)\n",
      "/home/aiffel/anaconda3/lib/python3.7/site-packages/matplotlib/backends/backend_agg.py:176: RuntimeWarning: Glyph 45796 missing from current font.\n",
      "  font.load_char(ord(s), flags=flags)\n"
     ]
    },
    {
     "data": {
      "image/png": "[encoded data removed]",
      "text/plain": [
       "<Figure size 720x720 with 1 Axes>"
      ]
     },
     "metadata": {
      "image/png": {
       "height": 593,
       "width": 126
      },
      "needs_background": "light"
     },
     "output_type": "display_data"
    }
   ],
   "source": [
    "translate(\"오바마는 대통령이다.\", encoder, decoder)"
   ]
  },
  {
   "cell_type": "code",
   "execution_count": 103,
   "metadata": {},
   "outputs": [
    {
     "name": "stdout",
     "output_type": "stream",
     "text": [
      "Input: ['시민', '들', '은', '도시', '속', '에', '산다', '.']\n",
      "Predicted translation: the the the the the the the the the the the the the the the the the the the the the the the the the the the the the the the the the the the the the the the the \n"
     ]
    },
    {
     "name": "stderr",
     "output_type": "stream",
     "text": [
      "/home/aiffel/anaconda3/lib/python3.7/site-packages/matplotlib/backends/backend_agg.py:211: RuntimeWarning: Glyph 49884 missing from current font.\n",
      "  font.set_text(s, 0.0, flags=flags)\n",
      "/home/aiffel/anaconda3/lib/python3.7/site-packages/matplotlib/backends/backend_agg.py:211: RuntimeWarning: Glyph 48124 missing from current font.\n",
      "  font.set_text(s, 0.0, flags=flags)\n",
      "/home/aiffel/anaconda3/lib/python3.7/site-packages/matplotlib/backends/backend_agg.py:211: RuntimeWarning: Glyph 46308 missing from current font.\n",
      "  font.set_text(s, 0.0, flags=flags)\n",
      "/home/aiffel/anaconda3/lib/python3.7/site-packages/matplotlib/backends/backend_agg.py:211: RuntimeWarning: Glyph 51008 missing from current font.\n",
      "  font.set_text(s, 0.0, flags=flags)\n",
      "/home/aiffel/anaconda3/lib/python3.7/site-packages/matplotlib/backends/backend_agg.py:211: RuntimeWarning: Glyph 46020 missing from current font.\n",
      "  font.set_text(s, 0.0, flags=flags)\n",
      "/home/aiffel/anaconda3/lib/python3.7/site-packages/matplotlib/backends/backend_agg.py:211: RuntimeWarning: Glyph 49549 missing from current font.\n",
      "  font.set_text(s, 0.0, flags=flags)\n",
      "/home/aiffel/anaconda3/lib/python3.7/site-packages/matplotlib/backends/backend_agg.py:211: RuntimeWarning: Glyph 50640 missing from current font.\n",
      "  font.set_text(s, 0.0, flags=flags)\n",
      "/home/aiffel/anaconda3/lib/python3.7/site-packages/matplotlib/backends/backend_agg.py:211: RuntimeWarning: Glyph 49328 missing from current font.\n",
      "  font.set_text(s, 0.0, flags=flags)\n",
      "/home/aiffel/anaconda3/lib/python3.7/site-packages/matplotlib/backends/backend_agg.py:180: RuntimeWarning: Glyph 49884 missing from current font.\n",
      "  font.set_text(s, 0, flags=flags)\n",
      "/home/aiffel/anaconda3/lib/python3.7/site-packages/matplotlib/backends/backend_agg.py:180: RuntimeWarning: Glyph 48124 missing from current font.\n",
      "  font.set_text(s, 0, flags=flags)\n",
      "/home/aiffel/anaconda3/lib/python3.7/site-packages/matplotlib/backends/backend_agg.py:176: RuntimeWarning: Glyph 46308 missing from current font.\n",
      "  font.load_char(ord(s), flags=flags)\n",
      "/home/aiffel/anaconda3/lib/python3.7/site-packages/matplotlib/backends/backend_agg.py:176: RuntimeWarning: Glyph 51008 missing from current font.\n",
      "  font.load_char(ord(s), flags=flags)\n",
      "/home/aiffel/anaconda3/lib/python3.7/site-packages/matplotlib/backends/backend_agg.py:180: RuntimeWarning: Glyph 46020 missing from current font.\n",
      "  font.set_text(s, 0, flags=flags)\n",
      "/home/aiffel/anaconda3/lib/python3.7/site-packages/matplotlib/backends/backend_agg.py:176: RuntimeWarning: Glyph 49549 missing from current font.\n",
      "  font.load_char(ord(s), flags=flags)\n",
      "/home/aiffel/anaconda3/lib/python3.7/site-packages/matplotlib/backends/backend_agg.py:176: RuntimeWarning: Glyph 50640 missing from current font.\n",
      "  font.load_char(ord(s), flags=flags)\n",
      "/home/aiffel/anaconda3/lib/python3.7/site-packages/matplotlib/backends/backend_agg.py:180: RuntimeWarning: Glyph 49328 missing from current font.\n",
      "  font.set_text(s, 0, flags=flags)\n",
      "/home/aiffel/anaconda3/lib/python3.7/site-packages/matplotlib/backends/backend_agg.py:180: RuntimeWarning: Glyph 45796 missing from current font.\n",
      "  font.set_text(s, 0, flags=flags)\n"
     ]
    },
    {
     "data": {
      "image/png": "[encoded data removed]",
      "text/plain": [
       "<Figure size 720x720 with 1 Axes>"
      ]
     },
     "metadata": {
      "image/png": {
       "height": 585,
       "width": 153
      },
      "needs_background": "light"
     },
     "output_type": "display_data"
    }
   ],
   "source": [
    "translate(\"시민들은 도시 속에 산다.\", encoder, decoder)"
   ]
  },
  {
   "cell_type": "code",
   "execution_count": 104,
   "metadata": {},
   "outputs": [
    {
     "name": "stdout",
     "output_type": "stream",
     "text": [
      "Input: ['커피', '는', '필요', '없', '다', '.']\n",
      "Predicted translation: the the the the the the the the the the the the the the the the the the the the the the the the the the the the the the the the the the the the the the the the \n"
     ]
    },
    {
     "name": "stderr",
     "output_type": "stream",
     "text": [
      "/home/aiffel/anaconda3/lib/python3.7/site-packages/matplotlib/backends/backend_agg.py:211: RuntimeWarning: Glyph 52964 missing from current font.\n",
      "  font.set_text(s, 0.0, flags=flags)\n",
      "/home/aiffel/anaconda3/lib/python3.7/site-packages/matplotlib/backends/backend_agg.py:211: RuntimeWarning: Glyph 54588 missing from current font.\n",
      "  font.set_text(s, 0.0, flags=flags)\n",
      "/home/aiffel/anaconda3/lib/python3.7/site-packages/matplotlib/backends/backend_agg.py:211: RuntimeWarning: Glyph 54596 missing from current font.\n",
      "  font.set_text(s, 0.0, flags=flags)\n",
      "/home/aiffel/anaconda3/lib/python3.7/site-packages/matplotlib/backends/backend_agg.py:211: RuntimeWarning: Glyph 50836 missing from current font.\n",
      "  font.set_text(s, 0.0, flags=flags)\n",
      "/home/aiffel/anaconda3/lib/python3.7/site-packages/matplotlib/backends/backend_agg.py:211: RuntimeWarning: Glyph 50630 missing from current font.\n",
      "  font.set_text(s, 0.0, flags=flags)\n",
      "/home/aiffel/anaconda3/lib/python3.7/site-packages/matplotlib/backends/backend_agg.py:180: RuntimeWarning: Glyph 52964 missing from current font.\n",
      "  font.set_text(s, 0, flags=flags)\n",
      "/home/aiffel/anaconda3/lib/python3.7/site-packages/matplotlib/backends/backend_agg.py:180: RuntimeWarning: Glyph 54588 missing from current font.\n",
      "  font.set_text(s, 0, flags=flags)\n",
      "/home/aiffel/anaconda3/lib/python3.7/site-packages/matplotlib/backends/backend_agg.py:180: RuntimeWarning: Glyph 54596 missing from current font.\n",
      "  font.set_text(s, 0, flags=flags)\n",
      "/home/aiffel/anaconda3/lib/python3.7/site-packages/matplotlib/backends/backend_agg.py:180: RuntimeWarning: Glyph 50836 missing from current font.\n",
      "  font.set_text(s, 0, flags=flags)\n",
      "/home/aiffel/anaconda3/lib/python3.7/site-packages/matplotlib/backends/backend_agg.py:176: RuntimeWarning: Glyph 50630 missing from current font.\n",
      "  font.load_char(ord(s), flags=flags)\n"
     ]
    },
    {
     "data": {
      "image/png": "[encoded data removed]",
      "text/plain": [
       "<Figure size 720x720 with 1 Axes>"
      ]
     },
     "metadata": {
      "image/png": {
       "height": 585,
       "width": 126
      },
      "needs_background": "light"
     },
     "output_type": "display_data"
    }
   ],
   "source": [
    "translate(\"커피는 필요 없다.\", encoder, decoder)"
   ]
  },
  {
   "cell_type": "code",
   "execution_count": 105,
   "metadata": {},
   "outputs": [
    {
     "name": "stdout",
     "output_type": "stream",
     "text": [
      "Input: ['일곱', '명', '의', '사망자', '가', '발생', '했', '다', '.']\n",
      "Predicted translation: the the the the the the the the the the the the the the the the the the the the the the the the the the the the the the the the the the the the the the the the \n"
     ]
    },
    {
     "name": "stderr",
     "output_type": "stream",
     "text": [
      "/home/aiffel/anaconda3/lib/python3.7/site-packages/matplotlib/backends/backend_agg.py:211: RuntimeWarning: Glyph 51068 missing from current font.\n",
      "  font.set_text(s, 0.0, flags=flags)\n",
      "/home/aiffel/anaconda3/lib/python3.7/site-packages/matplotlib/backends/backend_agg.py:211: RuntimeWarning: Glyph 44273 missing from current font.\n",
      "  font.set_text(s, 0.0, flags=flags)\n",
      "/home/aiffel/anaconda3/lib/python3.7/site-packages/matplotlib/backends/backend_agg.py:211: RuntimeWarning: Glyph 47749 missing from current font.\n",
      "  font.set_text(s, 0.0, flags=flags)\n",
      "/home/aiffel/anaconda3/lib/python3.7/site-packages/matplotlib/backends/backend_agg.py:211: RuntimeWarning: Glyph 51032 missing from current font.\n",
      "  font.set_text(s, 0.0, flags=flags)\n",
      "/home/aiffel/anaconda3/lib/python3.7/site-packages/matplotlib/backends/backend_agg.py:211: RuntimeWarning: Glyph 49324 missing from current font.\n",
      "  font.set_text(s, 0.0, flags=flags)\n",
      "/home/aiffel/anaconda3/lib/python3.7/site-packages/matplotlib/backends/backend_agg.py:211: RuntimeWarning: Glyph 47581 missing from current font.\n",
      "  font.set_text(s, 0.0, flags=flags)\n",
      "/home/aiffel/anaconda3/lib/python3.7/site-packages/matplotlib/backends/backend_agg.py:211: RuntimeWarning: Glyph 51088 missing from current font.\n",
      "  font.set_text(s, 0.0, flags=flags)\n",
      "/home/aiffel/anaconda3/lib/python3.7/site-packages/matplotlib/backends/backend_agg.py:211: RuntimeWarning: Glyph 44032 missing from current font.\n",
      "  font.set_text(s, 0.0, flags=flags)\n",
      "/home/aiffel/anaconda3/lib/python3.7/site-packages/matplotlib/backends/backend_agg.py:211: RuntimeWarning: Glyph 48156 missing from current font.\n",
      "  font.set_text(s, 0.0, flags=flags)\n",
      "/home/aiffel/anaconda3/lib/python3.7/site-packages/matplotlib/backends/backend_agg.py:211: RuntimeWarning: Glyph 49373 missing from current font.\n",
      "  font.set_text(s, 0.0, flags=flags)\n",
      "/home/aiffel/anaconda3/lib/python3.7/site-packages/matplotlib/backends/backend_agg.py:211: RuntimeWarning: Glyph 54664 missing from current font.\n",
      "  font.set_text(s, 0.0, flags=flags)\n",
      "/home/aiffel/anaconda3/lib/python3.7/site-packages/matplotlib/backends/backend_agg.py:180: RuntimeWarning: Glyph 51068 missing from current font.\n",
      "  font.set_text(s, 0, flags=flags)\n",
      "/home/aiffel/anaconda3/lib/python3.7/site-packages/matplotlib/backends/backend_agg.py:180: RuntimeWarning: Glyph 44273 missing from current font.\n",
      "  font.set_text(s, 0, flags=flags)\n",
      "/home/aiffel/anaconda3/lib/python3.7/site-packages/matplotlib/backends/backend_agg.py:176: RuntimeWarning: Glyph 47749 missing from current font.\n",
      "  font.load_char(ord(s), flags=flags)\n",
      "/home/aiffel/anaconda3/lib/python3.7/site-packages/matplotlib/backends/backend_agg.py:176: RuntimeWarning: Glyph 51032 missing from current font.\n",
      "  font.load_char(ord(s), flags=flags)\n",
      "/home/aiffel/anaconda3/lib/python3.7/site-packages/matplotlib/backends/backend_agg.py:180: RuntimeWarning: Glyph 49324 missing from current font.\n",
      "  font.set_text(s, 0, flags=flags)\n",
      "/home/aiffel/anaconda3/lib/python3.7/site-packages/matplotlib/backends/backend_agg.py:180: RuntimeWarning: Glyph 47581 missing from current font.\n",
      "  font.set_text(s, 0, flags=flags)\n",
      "/home/aiffel/anaconda3/lib/python3.7/site-packages/matplotlib/backends/backend_agg.py:180: RuntimeWarning: Glyph 51088 missing from current font.\n",
      "  font.set_text(s, 0, flags=flags)\n",
      "/home/aiffel/anaconda3/lib/python3.7/site-packages/matplotlib/backends/backend_agg.py:176: RuntimeWarning: Glyph 44032 missing from current font.\n",
      "  font.load_char(ord(s), flags=flags)\n",
      "/home/aiffel/anaconda3/lib/python3.7/site-packages/matplotlib/backends/backend_agg.py:180: RuntimeWarning: Glyph 48156 missing from current font.\n",
      "  font.set_text(s, 0, flags=flags)\n",
      "/home/aiffel/anaconda3/lib/python3.7/site-packages/matplotlib/backends/backend_agg.py:180: RuntimeWarning: Glyph 49373 missing from current font.\n",
      "  font.set_text(s, 0, flags=flags)\n",
      "/home/aiffel/anaconda3/lib/python3.7/site-packages/matplotlib/backends/backend_agg.py:176: RuntimeWarning: Glyph 54664 missing from current font.\n",
      "  font.load_char(ord(s), flags=flags)\n"
     ]
    },
    {
     "data": {
      "image/png": "[encoded data removed]",
      "text/plain": [
       "<Figure size 720x720 with 1 Axes>"
      ]
     },
     "metadata": {
      "image/png": {
       "height": 593,
       "width": 166
      },
      "needs_background": "light"
     },
     "output_type": "display_data"
    }
   ],
   "source": [
    "translate(\"일곱 명의 사망자가 발생했다.\", encoder, decoder)"
   ]
  },
  {
   "cell_type": "markdown",
   "metadata": {},
   "source": [
    "### 회고 \n",
    "- ~2개로 분리된 데이터를 정제하는 과정의 코드 구현이 잘 이루어지지 않음~\n",
    "- ~한글 정규표현식 적용이 잘 이루어지지 않음~\n",
    "- ~mecab() 을 이용한 한글 토크나이저 함수 선언과 적용이 잘 이루어지지 않음~\n",
    "- 학습모델을 개선하기 위한 방법들에대해 더 공부해야겠다.\n",
    "\n"
   ]
  },
  {
   "cell_type": "code",
   "execution_count": null,
   "metadata": {},
   "outputs": [],
   "source": []
  }
 ],
 "metadata": {
  "kernelspec": {
   "display_name": "Python 3",
   "language": "python",
   "name": "python3"
  },
  "language_info": {
   "codemirror_mode": {
    "name": "ipython",
    "version": 3
   },
   "file_extension": ".py",
   "mimetype": "text/x-python",
   "name": "python",
   "nbconvert_exporter": "python",
   "pygments_lexer": "ipython3",
   "version": "3.7.6"
  }
 },
 "nbformat": 4,
 "nbformat_minor": 4
}
