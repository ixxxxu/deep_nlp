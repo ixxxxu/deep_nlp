{
 "cells": [
  {
   "cell_type": "markdown",
   "metadata": {},
   "source": [
    "### 프로젝트 : 한국어 QA 모델 만들기\n",
    "- 한국어 버전의 bAbi 데이터 셋\n",
    "https://aiffelstaticprd.blob.core.windows.net/media/documents/e-28-korean.zip"
   ]
  },
  {
   "cell_type": "markdown",
   "metadata": {},
   "source": [
    "#### STEP 1) 한국어 형태소 분석기_토크나이저 변경하기\n",
    "- 사용자 사전이 추가된 Customized Konlpy 사용\n",
    "https://inspiringpeople.github.io/data%20analysis/ckonlpy/"
   ]
  },
  {
   "cell_type": "code",
   "execution_count": 1,
   "metadata": {},
   "outputs": [],
   "source": [
    "#!pip install customized_konlpy"
   ]
  },
  {
   "cell_type": "code",
   "execution_count": 2,
   "metadata": {},
   "outputs": [
    {
     "name": "stderr",
     "output_type": "stream",
     "text": [
      "/home/aiffel/anaconda3/lib/python3.7/site-packages/konlpy/tag/_okt.py:16: UserWarning: \"Twitter\" has changed to \"Okt\" since KoNLPy v0.4.5.\n",
      "  warn('\"Twitter\" has changed to \"Okt\" since KoNLPy v0.4.5.')\n"
     ]
    },
    {
     "data": {
      "text/plain": [
       "['은경이', '는', '사무실', '로', '갔습니다', '.']"
      ]
     },
     "execution_count": 2,
     "metadata": {},
     "output_type": "execute_result"
    }
   ],
   "source": [
    "# 예시 코드\n",
    "from ckonlpy.tag import Twitter\n",
    "twitter = Twitter()\n",
    "twitter.add_dictionary('은경이', 'Noun')\n",
    "twitter.morphs('은경이는 사무실로 갔습니다.')"
   ]
  },
  {
   "cell_type": "markdown",
   "metadata": {},
   "source": [
    "#### STEP 2) 한국어 분석 후 불용어 처리하기\n",
    "- '는' , '으로' 등 분석에 도움이 되지 않는 토큰들 -> 불용어 처리로 제외"
   ]
  },
  {
   "cell_type": "markdown",
   "metadata": {},
   "source": [
    "#### STEP 3) 한국어에서의 모델 정확도 확인해보기"
   ]
  },
  {
   "cell_type": "markdown",
   "metadata": {},
   "source": [
    "\n",
    "#### 평가문항\t\n",
    "1. 한국어의 특성에 알맞게 전처리가 진행되었다.\n",
    "    - 한국어 특성에 따른 토큰화, 임베딩을 거쳐 데이터셋이 적절히 구성되었다.\n",
    "2. 메모리 네트워크가 정상적으로 구현되어 학습이 안정적으로 진행되었다.\n",
    "    - validation loss가 안정적으로 수렴하는 것을 확인하고 이를 시각화하였다.\n",
    "3. 메모리 네트워크를 통해 한국어 bAbI 태스크의 높은 정확도를 달성하였다.\n",
    "    - 추론 태스크의 테스트 정확도가 90% 이상 달성하였다."
   ]
  },
  {
   "cell_type": "code",
   "execution_count": null,
   "metadata": {},
   "outputs": [],
   "source": []
  },
  {
   "cell_type": "code",
   "execution_count": 3,
   "metadata": {},
   "outputs": [],
   "source": [
    "# 라이브러리 불러오기\n",
    "from tensorflow.keras.utils import get_file\n",
    "from tensorflow.keras.preprocessing.sequence import pad_sequences\n",
    "from tensorflow.keras.utils import to_categorical\n",
    "import numpy as np\n",
    "import tarfile\n",
    "from nltk import FreqDist\n",
    "from functools import reduce\n",
    "import os\n",
    "import re"
   ]
  },
  {
   "cell_type": "code",
   "execution_count": 8,
   "metadata": {},
   "outputs": [],
   "source": [
    "# # 데이터 불러오기\n",
    "# # 환경에 맞게 경로 수정\n",
    "home_dir = os.getenv('HOME')+'/aiffel/babi_memory_net'\n",
    "# file_to_save = home_dir + '/babi-tasks-v1-2.tar.gz'\n",
    "# path = get_file(file_to_save, origin='https://s3.amazonaws.com/text-datasets/babi_tasks_1-20_v1-2.tar.gz')\n",
    "# print(path)"
   ]
  },
  {
   "cell_type": "code",
   "execution_count": 5,
   "metadata": {},
   "outputs": [],
   "source": [
    "# # 압축해제\n",
    "# with tarfile.open(path) as tar:\n",
    "#     tar.extractall(home_dir)  # ~/aiffel/babi_memory_net 아래에 압축해제\n",
    "#     tar.close()"
   ]
  },
  {
   "cell_type": "code",
   "execution_count": 9,
   "metadata": {},
   "outputs": [],
   "source": [
    "# 훈련데이터 및 테스트 데이터 경로 지정\n",
    "# 환경에 맞게 경로 적절히 수정\n",
    "DATA_DIR = home_dir \n",
    "TRAIN_FILE = os.path.join(DATA_DIR, \"qa1_single-supporting-fact_train_kor.txt\")\n",
    "TEST_FILE = os.path.join(DATA_DIR, \"qa1_single-supporting-fact_test_kor.txt\")"
   ]
  },
  {
   "cell_type": "code",
   "execution_count": 10,
   "metadata": {},
   "outputs": [
    {
     "name": "stdout",
     "output_type": "stream",
     "text": [
      "1 필웅이는 화장실로 갔습니다.\n",
      "2 은경이는 복도로 이동했습니다.\n",
      "3 필웅이는 어디야? \t화장실\t1\n",
      "4 수종이는 복도로 복귀했습니다.\n",
      "5 경임이는 정원으로 갔습니다.\n",
      "6 수종이는 어디야? \t복도\t4\n",
      "7 은경이는 사무실로 갔습니다.\n",
      "8 경임이는 화장실로 뛰어갔습니다.\n",
      "9 수종이는 어디야? \t복도\t4\n",
      "10 필웅이는 복도로 갔습니다.\n",
      "11 수종이는 사무실로 가버렸습니다.\n",
      "12 수종이는 어디야? \t사무실\t11\n",
      "13 은경이는 정원으로 복귀했습니다.\n",
      "14 은경이는 침실로 갔습니다.\n",
      "15 경임이는 어디야? \t화장실\t8\n",
      "1 경임이는 사무실로 가버렸습니다.\n",
      "2 경임이는 화장실로 이동했습니다.\n",
      "3 경임이는 어디야? \t화장실\t2\n",
      "4 필웅이는 침실로 이동했습니다.\n",
      "5 수종이는 복도로 갔습니다.\n"
     ]
    }
   ],
   "source": [
    "# 훈련데이터에서 20개 문장 출력\n",
    "i = 0\n",
    "lines = open(TRAIN_FILE , \"rb\")\n",
    "for line in lines:\n",
    "    line = line.decode(\"utf-8\").strip()\n",
    "    # lno, text = line.split(\" \", 1) # ID와 TEXT 분리\n",
    "    i = i + 1\n",
    "    print(line)\n",
    "    if i == 20:\n",
    "        break"
   ]
  },
  {
   "cell_type": "markdown",
   "metadata": {},
   "source": [
    "### 데이터 전처리 1) 기본 전처리"
   ]
  },
  {
   "cell_type": "code",
   "execution_count": 11,
   "metadata": {},
   "outputs": [],
   "source": [
    "#데이터 전처리 \n",
    "#기본 전처리\n",
    "def read_data(dir):\n",
    "    stories, questions, answers = [], [], [] # 각각 스토리, 질문, 답변을 저장할 예정\n",
    "    story_temp = [] # 현재 시점의 스토리 임시 저장\n",
    "    lines = open(dir, \"rb\")\n",
    "\n",
    "    for line in lines:\n",
    "        line = line.decode(\"utf-8\") # b' 제거\n",
    "        line = line.strip() # '\\n' 제거\n",
    "        idx, text = line.split(\" \", 1) # 맨 앞에 있는 id number 분리\n",
    "        # 여기까지는 모든 줄에 적용되는 전처리\n",
    "\n",
    "        if int(idx) == 1:\n",
    "            story_temp = []\n",
    "        \n",
    "        if \"\\t\" in text: # 현재 읽는 줄이 질문 (tab) 답변 (tab)인 경우\n",
    "            question, answer, _ = text.split(\"\\t\") # 질문과 답변을 각각 저장\n",
    "            stories.append([x for x in story_temp if x]) # 지금까지의 누적 스토리를 스토리에 저장\n",
    "            questions.append(question)\n",
    "            answers.append(answer)\n",
    "\n",
    "        else: # 현재 읽는 줄이 스토리인 경우\n",
    "            story_temp.append(text) # 임시 저장\n",
    "\n",
    "    lines.close()\n",
    "    return stories, questions, answers"
   ]
  },
  {
   "cell_type": "code",
   "execution_count": 12,
   "metadata": {},
   "outputs": [],
   "source": [
    "#read_data() -> 스토리,질문,답변의 쌍을 리턴하는 훈련데이터 => train_data()에 저장\n",
    "#테스트 데이터는 => test_data()에 저장\n",
    "\n",
    "train_data = read_data(TRAIN_FILE)\n",
    "test_data = read_data(TEST_FILE)"
   ]
  },
  {
   "cell_type": "code",
   "execution_count": 13,
   "metadata": {},
   "outputs": [],
   "source": [
    "#전처리 후 데이터셋 크기 출력\n",
    "train_stories, train_questions, train_answers = read_data(TRAIN_FILE)\n",
    "test_stories, test_questions, test_answers = read_data(TEST_FILE)"
   ]
  },
  {
   "cell_type": "code",
   "execution_count": 14,
   "metadata": {},
   "outputs": [
    {
     "data": {
      "text/plain": [
       "tuple"
      ]
     },
     "execution_count": 14,
     "metadata": {},
     "output_type": "execute_result"
    }
   ],
   "source": [
    "type(train_data)"
   ]
  },
  {
   "cell_type": "code",
   "execution_count": 15,
   "metadata": {},
   "outputs": [
    {
     "name": "stdout",
     "output_type": "stream",
     "text": [
      "train 스토리 개수: 10000\n",
      "train 질문 개수: 10000\n",
      "train 답변 개수: 10000\n",
      "test 스토리 개수: 1000\n",
      "test 질문 개수: 1000\n",
      "test 답변 개수: 1000\n"
     ]
    }
   ],
   "source": [
    "print(\"train 스토리 개수:\", len(train_stories))\n",
    "print(\"train 질문 개수:\", len(train_questions))\n",
    "print(\"train 답변 개수:\", len(train_answers))\n",
    "print(\"test 스토리 개수:\", len(test_stories))\n",
    "print(\"test 질문 개수:\", len(test_questions))\n",
    "print(\"test 답변 개수:\", len(test_answers))"
   ]
  },
  {
   "cell_type": "code",
   "execution_count": 16,
   "metadata": {},
   "outputs": [
    {
     "data": {
      "text/plain": [
       "['수종이는 화장실로 뛰어갔습니다.',\n",
       " '경임이는 사무실로 갔습니다.',\n",
       " '은경이는 부엌으로 이동했습니다.',\n",
       " '경임이는 화장실로 갔습니다.',\n",
       " '수종이는 복도로 갔습니다.',\n",
       " '필웅이는 부엌으로 가버렸습니다.',\n",
       " '수종이는 부엌으로 이동했습니다.',\n",
       " '수종이는 화장실로 가버렸습니다.']"
      ]
     },
     "execution_count": 16,
     "metadata": {},
     "output_type": "execute_result"
    }
   ],
   "source": [
    "#3878번째 스토리 출력\n",
    "train_stories[3878]"
   ]
  },
  {
   "cell_type": "code",
   "execution_count": 17,
   "metadata": {},
   "outputs": [
    {
     "data": {
      "text/plain": [
       "['필웅이는 어디야? ', '수종이는 어디야? ', '수종이는 어디야? ', '수종이는 어디야? ', '경임이는 어디야? ']"
      ]
     },
     "execution_count": 17,
     "metadata": {},
     "output_type": "execute_result"
    }
   ],
   "source": [
    "#상위 5개의 질문 출력\n",
    "train_questions[:5]"
   ]
  },
  {
   "cell_type": "code",
   "execution_count": 18,
   "metadata": {},
   "outputs": [
    {
     "data": {
      "text/plain": [
       "['화장실', '복도', '복도', '사무실', '화장실']"
      ]
     },
     "execution_count": 18,
     "metadata": {},
     "output_type": "execute_result"
    }
   ],
   "source": [
    "#상위 5개의 답변 출력\n",
    "train_answers[:5]"
   ]
  },
  {
   "cell_type": "code",
   "execution_count": 19,
   "metadata": {},
   "outputs": [],
   "source": [
    "#토큰화를 위한 함수 선언\n",
    "def tokenize(sent):\n",
    "    return [ x.strip() for x in re.sub(r\"\\s+|\\b\", '\\f', sent).split('\\f') if x.strip() ] # python 3.7의 경우 \n",
    "    # return [ x.strip() for x in re.split('(\\W+)?', sent) if x.strip()] # python 3.6의 경우"
   ]
  },
  {
   "cell_type": "code",
   "execution_count": 20,
   "metadata": {},
   "outputs": [],
   "source": [
    "from konlpy.tag import Twitter as OriginalTwitter\n",
    "\n",
    "# def tokenize(sent):\n",
    "#     twitter_original = OriginalTwitter()\n",
    "#     return [twitter_original.pos(sent),'\\n']\n",
    "\n",
    "# from ckonlpy.tag import Twitter\n",
    "# twitter.add_dictionary('아이오아이', 'Noun')\n",
    "# print(twitter.pos('우리아이오아이는 정말 이뻐요'))"
   ]
  },
  {
   "cell_type": "code",
   "execution_count": 21,
   "metadata": {},
   "outputs": [],
   "source": [
    "# from ckonlpy.tag import Postprocessor\n",
    "\n",
    "# ## 파일을 로딩해서 전처리 하기 ##\n",
    "# from ckonlpy.utils import load_wordset\n",
    "# passwords = load_wordset('./passwords.txt')\n",
    "# stopwords = load_wordset('./stopwords.txt')\n",
    "\n",
    "# from ckonlpy.utils import load_replace_wordpair\n",
    "# replace = load_replace_wordpair('./replacewords.txt')\n",
    "\n",
    "# from ckonlpy.utils import load_ngram\n",
    "# ngrams = load_ngram('./ngrams.txt')\n",
    "# ####################################\n",
    "\n",
    "# postprocessor = Postprocessor(\n",
    "#     base_tagger = twitter, # base tagger\n",
    "#     stopwords = stopwords, # 해당 단어 필터\n",
    "#     passwords = passwords, # 해당 단어만 선택\n",
    "#     passtags = passtags, # 해당 품사만 선택\n",
    "#     replace = replace, # 해당 단어 set 치환\n",
    "#     ngrams = ngrams # 해당 복합 단어 set을 한 단어로 결합\n",
    "# )\n",
    "\n",
    "# print(passwords)\n",
    "# print(stopwrods)\n",
    "# print(replace)\n",
    "# print(ngrams)"
   ]
  },
  {
   "cell_type": "code",
   "execution_count": 22,
   "metadata": {},
   "outputs": [],
   "source": [
    "# def tokenize(sent):\n",
    "#     from konlpy.tag import Okt  \n",
    "#     okt=Okt()  \n",
    "#     return [okt.morphs(sent)]"
   ]
  },
  {
   "cell_type": "code",
   "execution_count": 23,
   "metadata": {},
   "outputs": [
    {
     "name": "stdout",
     "output_type": "stream",
     "text": [
      "--sys.version—\n",
      "3.7.6 (default, Jan  8 2020, 19:59:22) \n",
      "[GCC 7.3.0]\n"
     ]
    }
   ],
   "source": [
    "#주피터 노트북에서 파이썬 버전 확인하는 법\n",
    "import sys\n",
    "\n",
    "print(\"--sys.version—\")\n",
    "print(sys.version)"
   ]
  },
  {
   "cell_type": "markdown",
   "metadata": {},
   "source": [
    "### 데이터 전처리 - 단어장 생성\n",
    "- 단어 -> 정수 , 정수 -> 단어 로 맵핑하는 딕셔너리(dictionary) 생성\n",
    "    - 스토리와 질문의 가장 긴 길이를 구하기 (패딩사용)"
   ]
  },
  {
   "cell_type": "code",
   "execution_count": 24,
   "metadata": {},
   "outputs": [],
   "source": [
    "def preprocess_data(train_data, test_data):\n",
    "    counter = FreqDist()\n",
    "    \n",
    "    # 두 문장의 story를 하나의 문장으로 통합하는 함수\n",
    "    flatten = lambda data: reduce(lambda x, y: x + y, data)\n",
    "\n",
    "    # 각 샘플의 길이를 저장하는 리스트\n",
    "    story_len = []\n",
    "    question_len = []\n",
    "    \n",
    "    for stories, questions, answers in [train_data, test_data]:\n",
    "        for story in stories:\n",
    "            stories = tokenize(flatten(story)) # 스토리의 문장들을 펼친 후 토큰화\n",
    "            story_len.append(len(stories)) # 각 story의 길이 저장\n",
    "            for word in stories: # 단어 집합에 단어 추가\n",
    "                counter[word] += 1\n",
    "        for question in questions:\n",
    "            question = tokenize(question)\n",
    "            question_len.append(len(question))\n",
    "            for word in question:\n",
    "                counter[word] += 1\n",
    "        for answer in answers:\n",
    "            answer = tokenize(answer)\n",
    "            for word in answer:\n",
    "                counter[word] += 1\n",
    "\n",
    "    # 단어장 생성\n",
    "    word2idx = {word : (idx + 1) for idx, (word, _) in enumerate(counter.most_common())}\n",
    "    idx2word = {idx : word for word, idx in word2idx.items()}\n",
    "\n",
    "    # 가장 긴 샘플의 길이\n",
    "    story_max_len = np.max(story_len)\n",
    "    question_max_len = np.max(question_len)\n",
    "\n",
    "    return word2idx, idx2word, story_max_len, question_max_len"
   ]
  },
  {
   "cell_type": "code",
   "execution_count": 25,
   "metadata": {},
   "outputs": [],
   "source": [
    "#단어장과 가장 긴 샘플의 길이를 리턴 \n",
    "word2idx, idx2word, story_max_len, question_max_len = preprocess_data(train_data, test_data)"
   ]
  },
  {
   "cell_type": "code",
   "execution_count": 26,
   "metadata": {},
   "outputs": [
    {
     "name": "stdout",
     "output_type": "stream",
     "text": [
      "{'.': 1, '경임이는': 2, '은경이는': 3, '수종이는': 4, '필웅이는': 5, '이동했습니다': 6, '가버렸습니다': 7, '뛰어갔습니다': 8, '복귀했습니다': 9, '갔습니다': 10, '화장실로': 11, '정원으로': 12, '복도로': 13, '어디야': 14, '?': 15, '부엌으로': 16, '사무실로': 17, '침실로': 18, '화장실': 19, '정원': 20, '사무실': 21, '침실': 22, '복도': 23, '부엌': 24}\n"
     ]
    }
   ],
   "source": [
    "print(word2idx)"
   ]
  },
  {
   "cell_type": "code",
   "execution_count": 27,
   "metadata": {},
   "outputs": [],
   "source": [
    "#단어장의 크기는 패딩을 고려하여 +1\n",
    "vocab_size = len(word2idx) + 1"
   ]
  },
  {
   "cell_type": "code",
   "execution_count": 28,
   "metadata": {},
   "outputs": [
    {
     "name": "stdout",
     "output_type": "stream",
     "text": [
      "스토리의 최대 길이 : 40\n",
      "질문의 최대 길이 : 3\n"
     ]
    }
   ],
   "source": [
    "#bAbi 데이터셋의 특징 -> 대체로 매우 짧은 길이의 질문들로 구성됨\n",
    "print('스토리의 최대 길이 :',story_max_len) # 스토리 내에 있는 여러 개 문장들을 하나의 문장으로 간주하였을 때, 최대 단어의 개수\n",
    "print('질문의 최대 길이 :',question_max_len)"
   ]
  },
  {
   "cell_type": "markdown",
   "metadata": {},
   "source": [
    "### 데이터 전처리 2) 패딩, 정수인코딩, 벡터화\n",
    "- 앞서 최대 길이를 구한 이유 => 패딩을 하기 위함\n",
    "    -남은 전처리\n",
    "        1. 현재 텍스트 데이터 => 단어와 맵핑되는 정수로인코딩 | word2idx활용\n",
    "        2. 스토리와 질문 데이터 => 각각 최대 길이로 패딩(padding) | story_max_len,question_max_len을 사용\n",
    "        3. 레이블에 해당하는 정답 데이터 => 원-핫 인코딩 \n",
    "        \n",
    "    - vectorize()함수 선언을 통해 해당 기능 구현"
   ]
  },
  {
   "cell_type": "code",
   "execution_count": 29,
   "metadata": {},
   "outputs": [],
   "source": [
    "def vectorize(data, word2idx, story_maxlen, question_maxlen):\n",
    "    Xs, Xq, Y = [], [], []\n",
    "    flatten = lambda data: reduce(lambda x, y: x + y, data)\n",
    "\n",
    "    stories, questions, answers = data\n",
    "    for story, question, answer in zip(stories, questions, answers):\n",
    "        xs = [word2idx[w] for w in tokenize(flatten(story))]\n",
    "        xq = [word2idx[w] for w in tokenize(question)]\n",
    "        Xs.append(xs)\n",
    "        Xq.append(xq)\n",
    "        Y.append(word2idx[answer])\n",
    "\n",
    "    # 스토리와 질문은 각각의 최대 길이로 패딩\n",
    "    # 정답은 원-핫 인코딩\n",
    "    return pad_sequences(Xs, maxlen=story_maxlen),\\\n",
    "           pad_sequences(Xq, maxlen=question_maxlen),\\\n",
    "           to_categorical(Y, num_classes=len(word2idx) + 1)"
   ]
  },
  {
   "cell_type": "code",
   "execution_count": 30,
   "metadata": {},
   "outputs": [],
   "source": [
    "#훈련 데이터와 테스트 데이터에 대해서 함수를 호출\n",
    "Xstrain, Xqtrain, Ytrain = vectorize(train_data, word2idx, story_max_len, question_max_len)\n",
    "Xstest, Xqtest, Ytest = vectorize(test_data, word2idx, story_max_len, question_max_len)"
   ]
  },
  {
   "cell_type": "code",
   "execution_count": 31,
   "metadata": {},
   "outputs": [
    {
     "name": "stdout",
     "output_type": "stream",
     "text": [
      "(10000, 40) (10000, 3) (10000, 25) (1000, 40) (1000, 3) (1000, 25)\n"
     ]
    }
   ],
   "source": [
    "#반환된 결과의 크기(shape)를 확인\n",
    "print(Xstrain.shape, Xqtrain.shape, Ytrain.shape, Xstest.shape, Xqtest.shape, Ytest.shape)"
   ]
  },
  {
   "cell_type": "markdown",
   "metadata": {},
   "source": [
    "### 메모리 네트워크 구현"
   ]
  },
  {
   "cell_type": "code",
   "execution_count": 32,
   "metadata": {},
   "outputs": [
    {
     "name": "stderr",
     "output_type": "stream",
     "text": [
      "In /home/aiffel/anaconda3/lib/python3.7/site-packages/matplotlib/mpl-data/stylelib/_classic_test.mplstyle: \n",
      "The text.latex.preview rcparam was deprecated in Matplotlib 3.3 and will be removed two minor releases later.\n",
      "In /home/aiffel/anaconda3/lib/python3.7/site-packages/matplotlib/mpl-data/stylelib/_classic_test.mplstyle: \n",
      "The mathtext.fallback_to_cm rcparam was deprecated in Matplotlib 3.3 and will be removed two minor releases later.\n",
      "In /home/aiffel/anaconda3/lib/python3.7/site-packages/matplotlib/mpl-data/stylelib/_classic_test.mplstyle: Support for setting the 'mathtext.fallback_to_cm' rcParam is deprecated since 3.3 and will be removed two minor releases later; use 'mathtext.fallback : 'cm' instead.\n",
      "In /home/aiffel/anaconda3/lib/python3.7/site-packages/matplotlib/mpl-data/stylelib/_classic_test.mplstyle: \n",
      "The validate_bool_maybe_none function was deprecated in Matplotlib 3.3 and will be removed two minor releases later.\n",
      "In /home/aiffel/anaconda3/lib/python3.7/site-packages/matplotlib/mpl-data/stylelib/_classic_test.mplstyle: \n",
      "The savefig.jpeg_quality rcparam was deprecated in Matplotlib 3.3 and will be removed two minor releases later.\n",
      "In /home/aiffel/anaconda3/lib/python3.7/site-packages/matplotlib/mpl-data/stylelib/_classic_test.mplstyle: \n",
      "The keymap.all_axes rcparam was deprecated in Matplotlib 3.3 and will be removed two minor releases later.\n",
      "In /home/aiffel/anaconda3/lib/python3.7/site-packages/matplotlib/mpl-data/stylelib/_classic_test.mplstyle: \n",
      "The animation.avconv_path rcparam was deprecated in Matplotlib 3.3 and will be removed two minor releases later.\n",
      "In /home/aiffel/anaconda3/lib/python3.7/site-packages/matplotlib/mpl-data/stylelib/_classic_test.mplstyle: \n",
      "The animation.avconv_args rcparam was deprecated in Matplotlib 3.3 and will be removed two minor releases later.\n"
     ]
    }
   ],
   "source": [
    "#라이브러리 불러오기\n",
    "from tensorflow.keras.models import Sequential, Model\n",
    "from tensorflow.keras.layers import Embedding\n",
    "from tensorflow.keras.layers import Permute, dot, add, concatenate\n",
    "from tensorflow.keras.layers import LSTM, Dense, Dropout, Input, Activation\n",
    "import matplotlib.pyplot as plt"
   ]
  },
  {
   "cell_type": "code",
   "execution_count": 33,
   "metadata": {},
   "outputs": [],
   "source": [
    "#하이퍼파라미터 정의\n",
    "# 에포크 횟수\n",
    "train_epochs = 120\n",
    "# 배치 크기\n",
    "batch_size = 32\n",
    "# 임베딩 크기\n",
    "embed_size = 50\n",
    "# LSTM의 크기\n",
    "lstm_size = 64\n",
    "# 과적합 방지 기법인 드롭아웃 적용 비율\n",
    "dropout_rate = 0.30"
   ]
  },
  {
   "cell_type": "code",
   "execution_count": 34,
   "metadata": {},
   "outputs": [
    {
     "name": "stdout",
     "output_type": "stream",
     "text": [
      "Stories : Tensor(\"input_1:0\", shape=(None, 40), dtype=float32)\n",
      "Question: Tensor(\"input_2:0\", shape=(None, 3), dtype=float32)\n"
     ]
    }
   ],
   "source": [
    "#입력을 담을 변수 정의\n",
    "input_sequence = Input((story_max_len,))\n",
    "question = Input((question_max_len,))\n",
    " \n",
    "print('Stories :', input_sequence)\n",
    "print('Question:', question)"
   ]
  },
  {
   "cell_type": "code",
   "execution_count": 35,
   "metadata": {},
   "outputs": [],
   "source": [
    "#!pip install IPython "
   ]
  },
  {
   "cell_type": "code",
   "execution_count": 36,
   "metadata": {},
   "outputs": [],
   "source": [
    "from IPython.display import Image"
   ]
  },
  {
   "cell_type": "code",
   "execution_count": 37,
   "metadata": {},
   "outputs": [
    {
     "data": {
      "image/png": "[encoded data removed]",
      "text/plain": [
       "<IPython.core.display.Image object>"
      ]
     },
     "execution_count": 37,
     "metadata": {},
     "output_type": "execute_result"
    }
   ],
   "source": [
    "Image('network.png')"
   ]
  },
  {
   "cell_type": "code",
   "execution_count": 38,
   "metadata": {},
   "outputs": [],
   "source": [
    "# 스토리를 위한 첫 번째 임베딩. 그림에서의 Embedding A\n",
    "input_encoder_m = Sequential()\n",
    "input_encoder_m.add(Embedding(input_dim=vocab_size,\n",
    "                              output_dim=embed_size))\n",
    "input_encoder_m.add(Dropout(dropout_rate))\n",
    "# 결과 : (samples, story_max_len, embed_size) / 샘플의 수, 문장의 최대 길이, 임베딩 벡터의 차원\n",
    " \n",
    "# 스토리를 위한 두 번째 임베딩. 그림에서의 Embedding C\n",
    "# 임베딩 벡터의 차원을 question_max_len(질문의 최대 길이)로 한다.\n",
    "input_encoder_c = Sequential()\n",
    "input_encoder_c.add(Embedding(input_dim=vocab_size,\n",
    "                              output_dim=question_max_len))\n",
    "input_encoder_c.add(Dropout(dropout_rate))\n",
    "# 결과 : (samples, story_max_len, question_max_len) / 샘플의 수, 문장의 최대 길이, 질문의 최대 길이(임베딩"
   ]
  },
  {
   "cell_type": "code",
   "execution_count": 39,
   "metadata": {},
   "outputs": [],
   "source": [
    "# 질문을 위한 임베딩. 그림에서의 Embedding B\n",
    "question_encoder = Sequential()\n",
    "question_encoder.add(Embedding(input_dim=vocab_size,\n",
    "                               output_dim=embed_size,\n",
    "                               input_length=question_max_len))\n",
    "question_encoder.add(Dropout(dropout_rate))\n",
    "# 결과 : (samples, question_max_len, embed_size) / 샘플의 수, 질문의 최대 길이, 임베딩 벡터의 차원"
   ]
  },
  {
   "cell_type": "code",
   "execution_count": 40,
   "metadata": {},
   "outputs": [
    {
     "name": "stdout",
     "output_type": "stream",
     "text": [
      "Input encoded m Tensor(\"sequential/dropout/cond/Identity:0\", shape=(None, 40, 50), dtype=float32) \n",
      "\n",
      "Input encoded c Tensor(\"sequential_1/dropout_1/cond/Identity:0\", shape=(None, 40, 3), dtype=float32) \n",
      "\n",
      "Question encoded Tensor(\"sequential_2/dropout_2/cond/Identity:0\", shape=(None, 3, 50), dtype=float32) \n",
      "\n"
     ]
    }
   ],
   "source": [
    "# 실질적인 임베딩 과정\n",
    "input_encoded_m = input_encoder_m(input_sequence)\n",
    "input_encoded_c = input_encoder_c(input_sequence)\n",
    "question_encoded = question_encoder(question)\n",
    "\n",
    "print('Input encoded m', input_encoded_m, '\\n')\n",
    "print('Input encoded c', input_encoded_c, '\\n')\n",
    "print('Question encoded', question_encoded, '\\n')"
   ]
  },
  {
   "cell_type": "code",
   "execution_count": 41,
   "metadata": {},
   "outputs": [
    {
     "name": "stdout",
     "output_type": "stream",
     "text": [
      "Match shape Tensor(\"activation/truediv:0\", shape=(None, 40, 3), dtype=float32)\n"
     ]
    }
   ],
   "source": [
    "# 스토리 단어들과 질문 단어들 간의 유사도를 구하는 과정\n",
    "# 유사도는 내적을 사용한다.\n",
    "match = dot([input_encoded_m, question_encoded], axes=-1, normalize=False)\n",
    "match = Activation('softmax')(match)\n",
    "print('Match shape', match)\n",
    "# 결과 : (samples, story_max_len, question_max_len) / 샘플의 수, 문장의 최대 길이, 질문의 최대 길이"
   ]
  },
  {
   "cell_type": "code",
   "execution_count": 42,
   "metadata": {},
   "outputs": [
    {
     "name": "stdout",
     "output_type": "stream",
     "text": [
      "Response shape Tensor(\"permute/transpose:0\", shape=(None, 3, 40), dtype=float32)\n"
     ]
    }
   ],
   "source": [
    "# 매칭 유사도 행렬과 질문에 대한 임베딩을 더한다.\n",
    "# 예측에 사용되는 출력 행렬은 매칭 유사도 match와 스토리 표현 input_encoded_c을 더해서 구함\n",
    "response = add([match, input_encoded_c])  # (samples, story_maxlen, question_max_len)\n",
    "response = Permute((2, 1))(response)  # (samples, question_max_len, story_maxlen)\n",
    "print('Response shape', response)"
   ]
  },
  {
   "cell_type": "code",
   "execution_count": 43,
   "metadata": {},
   "outputs": [
    {
     "name": "stdout",
     "output_type": "stream",
     "text": [
      "Answer shape Tensor(\"concatenate/concat:0\", shape=(None, 3, 90), dtype=float32)\n"
     ]
    }
   ],
   "source": [
    "# 모델 정의 및 훈련 수행\n",
    "# concatenate the response vector with the question vector sequence\n",
    "answer = concatenate([response, question_encoded])\n",
    "print('Answer shape', answer)\n",
    " \n",
    "answer = LSTM(lstm_size)(answer)  # Generate tensors of shape 32\n",
    "answer = Dropout(dropout_rate)(answer)\n",
    "answer = Dense(vocab_size)(answer)  # (samples, vocab_size)\n",
    "# we output a probability distribution over the vocabulary\n",
    "answer = Activation('softmax')(answer)"
   ]
  },
  {
   "cell_type": "code",
   "execution_count": 44,
   "metadata": {},
   "outputs": [
    {
     "name": "stdout",
     "output_type": "stream",
     "text": [
      "Epoch 1/120\n",
      "313/313 [==============================] - 1s 4ms/step - loss: 1.9047 - acc: 0.1678 - val_loss: 1.7919 - val_acc: 0.2170\n",
      "Epoch 2/120\n",
      "313/313 [==============================] - 1s 3ms/step - loss: 1.6742 - acc: 0.2702 - val_loss: 1.5101 - val_acc: 0.3610\n",
      "Epoch 3/120\n",
      "313/313 [==============================] - 1s 3ms/step - loss: 1.5236 - acc: 0.3590 - val_loss: 1.4818 - val_acc: 0.3710\n",
      "Epoch 4/120\n",
      "313/313 [==============================] - 1s 3ms/step - loss: 1.5020 - acc: 0.3808 - val_loss: 1.4337 - val_acc: 0.4280\n",
      "Epoch 5/120\n",
      "313/313 [==============================] - 1s 3ms/step - loss: 1.4217 - acc: 0.4288 - val_loss: 1.3352 - val_acc: 0.4750\n",
      "Epoch 6/120\n",
      "313/313 [==============================] - 1s 3ms/step - loss: 1.3823 - acc: 0.4484 - val_loss: 1.3421 - val_acc: 0.4720\n",
      "Epoch 7/120\n",
      "313/313 [==============================] - 1s 3ms/step - loss: 1.3687 - acc: 0.4550 - val_loss: 1.3166 - val_acc: 0.4770\n",
      "Epoch 8/120\n",
      "313/313 [==============================] - 1s 3ms/step - loss: 1.3605 - acc: 0.4485 - val_loss: 1.3265 - val_acc: 0.4890\n",
      "Epoch 9/120\n",
      "313/313 [==============================] - 1s 3ms/step - loss: 1.3465 - acc: 0.4580 - val_loss: 1.3053 - val_acc: 0.4860\n",
      "Epoch 10/120\n",
      "313/313 [==============================] - 1s 3ms/step - loss: 1.3363 - acc: 0.4694 - val_loss: 1.2759 - val_acc: 0.5070\n",
      "Epoch 11/120\n",
      "313/313 [==============================] - 1s 3ms/step - loss: 1.3129 - acc: 0.4821 - val_loss: 1.2963 - val_acc: 0.4840\n",
      "Epoch 12/120\n",
      "313/313 [==============================] - 1s 3ms/step - loss: 1.3070 - acc: 0.4805 - val_loss: 1.2550 - val_acc: 0.5140\n",
      "Epoch 13/120\n",
      "313/313 [==============================] - 1s 3ms/step - loss: 1.2889 - acc: 0.4990 - val_loss: 1.2605 - val_acc: 0.5100\n",
      "Epoch 14/120\n",
      "313/313 [==============================] - 1s 3ms/step - loss: 1.2741 - acc: 0.4971 - val_loss: 1.2456 - val_acc: 0.5090\n",
      "Epoch 15/120\n",
      "313/313 [==============================] - 1s 3ms/step - loss: 1.2611 - acc: 0.5039 - val_loss: 1.2423 - val_acc: 0.5190\n",
      "Epoch 16/120\n",
      "313/313 [==============================] - 1s 3ms/step - loss: 1.2468 - acc: 0.5113 - val_loss: 1.2284 - val_acc: 0.5220\n",
      "Epoch 17/120\n",
      "313/313 [==============================] - 1s 3ms/step - loss: 1.2385 - acc: 0.5120 - val_loss: 1.2367 - val_acc: 0.5140\n",
      "Epoch 18/120\n",
      "313/313 [==============================] - 1s 3ms/step - loss: 1.2386 - acc: 0.5078 - val_loss: 1.2006 - val_acc: 0.5180\n",
      "Epoch 19/120\n",
      "313/313 [==============================] - 1s 3ms/step - loss: 1.2179 - acc: 0.5161 - val_loss: 1.2115 - val_acc: 0.5120\n",
      "Epoch 20/120\n",
      "313/313 [==============================] - 1s 3ms/step - loss: 1.2181 - acc: 0.5201 - val_loss: 1.2067 - val_acc: 0.5150\n",
      "Epoch 21/120\n",
      "313/313 [==============================] - 1s 3ms/step - loss: 1.2062 - acc: 0.5166 - val_loss: 1.1943 - val_acc: 0.5180\n",
      "Epoch 22/120\n",
      "313/313 [==============================] - 1s 3ms/step - loss: 1.1995 - acc: 0.5197 - val_loss: 1.1964 - val_acc: 0.5270\n",
      "Epoch 23/120\n",
      "313/313 [==============================] - 1s 3ms/step - loss: 1.1942 - acc: 0.5176 - val_loss: 1.1862 - val_acc: 0.5080\n",
      "Epoch 24/120\n",
      "313/313 [==============================] - 1s 3ms/step - loss: 1.1822 - acc: 0.5251 - val_loss: 1.1885 - val_acc: 0.5230\n",
      "Epoch 25/120\n",
      "313/313 [==============================] - 1s 3ms/step - loss: 1.1907 - acc: 0.5184 - val_loss: 1.1897 - val_acc: 0.5170\n",
      "Epoch 26/120\n",
      "313/313 [==============================] - 1s 3ms/step - loss: 1.1723 - acc: 0.5270 - val_loss: 1.2014 - val_acc: 0.5150\n",
      "Epoch 27/120\n",
      "313/313 [==============================] - 1s 3ms/step - loss: 1.1614 - acc: 0.5337 - val_loss: 1.1742 - val_acc: 0.5130\n",
      "Epoch 28/120\n",
      "313/313 [==============================] - 1s 3ms/step - loss: 1.1616 - acc: 0.5269 - val_loss: 1.1825 - val_acc: 0.5210\n",
      "Epoch 29/120\n",
      "313/313 [==============================] - 1s 3ms/step - loss: 1.1564 - acc: 0.5281 - val_loss: 1.1743 - val_acc: 0.5120\n",
      "Epoch 30/120\n",
      "313/313 [==============================] - 1s 3ms/step - loss: 1.1416 - acc: 0.5327 - val_loss: 1.1788 - val_acc: 0.5080\n",
      "Epoch 31/120\n",
      "313/313 [==============================] - 1s 3ms/step - loss: 1.1368 - acc: 0.5379 - val_loss: 1.1765 - val_acc: 0.5110\n",
      "Epoch 32/120\n",
      "313/313 [==============================] - 1s 3ms/step - loss: 1.1147 - acc: 0.5462 - val_loss: 1.1592 - val_acc: 0.5480\n",
      "Epoch 33/120\n",
      "313/313 [==============================] - 1s 3ms/step - loss: 1.0889 - acc: 0.5675 - val_loss: 1.0931 - val_acc: 0.5820\n",
      "Epoch 34/120\n",
      "313/313 [==============================] - 1s 3ms/step - loss: 0.9936 - acc: 0.6305 - val_loss: 0.8988 - val_acc: 0.6870\n",
      "Epoch 35/120\n",
      "313/313 [==============================] - 1s 3ms/step - loss: 0.7776 - acc: 0.7298 - val_loss: 0.6917 - val_acc: 0.7630\n",
      "Epoch 36/120\n",
      "313/313 [==============================] - 1s 3ms/step - loss: 0.6464 - acc: 0.7719 - val_loss: 0.5972 - val_acc: 0.7780\n",
      "Epoch 37/120\n",
      "313/313 [==============================] - 1s 3ms/step - loss: 0.5544 - acc: 0.8035 - val_loss: 0.4884 - val_acc: 0.8130\n",
      "Epoch 38/120\n",
      "313/313 [==============================] - 1s 3ms/step - loss: 0.4658 - acc: 0.8329 - val_loss: 0.4229 - val_acc: 0.8420\n",
      "Epoch 39/120\n",
      "313/313 [==============================] - 1s 3ms/step - loss: 0.4164 - acc: 0.8451 - val_loss: 0.4059 - val_acc: 0.8470\n",
      "Epoch 40/120\n",
      "313/313 [==============================] - 1s 3ms/step - loss: 0.3816 - acc: 0.8569 - val_loss: 0.3611 - val_acc: 0.8750\n",
      "Epoch 41/120\n",
      "313/313 [==============================] - 1s 3ms/step - loss: 0.3528 - acc: 0.8689 - val_loss: 0.3561 - val_acc: 0.8690\n",
      "Epoch 42/120\n",
      "313/313 [==============================] - 1s 3ms/step - loss: 0.3250 - acc: 0.8782 - val_loss: 0.3169 - val_acc: 0.8820\n",
      "Epoch 43/120\n",
      "313/313 [==============================] - 1s 3ms/step - loss: 0.2985 - acc: 0.8894 - val_loss: 0.2855 - val_acc: 0.9020\n",
      "Epoch 44/120\n",
      "313/313 [==============================] - 1s 3ms/step - loss: 0.2722 - acc: 0.9000 - val_loss: 0.2568 - val_acc: 0.9160\n",
      "Epoch 45/120\n",
      "313/313 [==============================] - 1s 3ms/step - loss: 0.2325 - acc: 0.9198 - val_loss: 0.2252 - val_acc: 0.9220\n",
      "Epoch 46/120\n",
      "313/313 [==============================] - 1s 3ms/step - loss: 0.2035 - acc: 0.9291 - val_loss: 0.1825 - val_acc: 0.9390\n",
      "Epoch 47/120\n",
      "313/313 [==============================] - 1s 3ms/step - loss: 0.1866 - acc: 0.9345 - val_loss: 0.1664 - val_acc: 0.9420\n",
      "Epoch 48/120\n",
      "313/313 [==============================] - 1s 3ms/step - loss: 0.1710 - acc: 0.9427 - val_loss: 0.1732 - val_acc: 0.9340\n",
      "Epoch 49/120\n",
      "313/313 [==============================] - 1s 3ms/step - loss: 0.1604 - acc: 0.9453 - val_loss: 0.1529 - val_acc: 0.9460\n",
      "Epoch 50/120\n",
      "313/313 [==============================] - 1s 3ms/step - loss: 0.1499 - acc: 0.9471 - val_loss: 0.1381 - val_acc: 0.9520\n",
      "Epoch 51/120\n",
      "313/313 [==============================] - 1s 3ms/step - loss: 0.1421 - acc: 0.9507 - val_loss: 0.1348 - val_acc: 0.9520\n",
      "Epoch 52/120\n",
      "313/313 [==============================] - 1s 3ms/step - loss: 0.1351 - acc: 0.9548 - val_loss: 0.1291 - val_acc: 0.9480\n",
      "Epoch 53/120\n",
      "313/313 [==============================] - 1s 3ms/step - loss: 0.1246 - acc: 0.9579 - val_loss: 0.1244 - val_acc: 0.9540\n",
      "Epoch 54/120\n",
      "313/313 [==============================] - 1s 3ms/step - loss: 0.1129 - acc: 0.9629 - val_loss: 0.1223 - val_acc: 0.9560\n",
      "Epoch 55/120\n",
      "313/313 [==============================] - 1s 3ms/step - loss: 0.1102 - acc: 0.9627 - val_loss: 0.1112 - val_acc: 0.9600\n",
      "Epoch 56/120\n",
      "313/313 [==============================] - 1s 3ms/step - loss: 0.1041 - acc: 0.9648 - val_loss: 0.0957 - val_acc: 0.9660\n",
      "Epoch 57/120\n",
      "313/313 [==============================] - 1s 3ms/step - loss: 0.0934 - acc: 0.9682 - val_loss: 0.1203 - val_acc: 0.9580\n",
      "Epoch 58/120\n",
      "313/313 [==============================] - 1s 3ms/step - loss: 0.0827 - acc: 0.9716 - val_loss: 0.0771 - val_acc: 0.9750\n",
      "Epoch 59/120\n",
      "313/313 [==============================] - 1s 3ms/step - loss: 0.0729 - acc: 0.9752 - val_loss: 0.0668 - val_acc: 0.9740\n",
      "Epoch 60/120\n",
      "313/313 [==============================] - 1s 3ms/step - loss: 0.0683 - acc: 0.9760 - val_loss: 0.0586 - val_acc: 0.9770\n",
      "Epoch 61/120\n",
      "313/313 [==============================] - 1s 3ms/step - loss: 0.0576 - acc: 0.9817 - val_loss: 0.0596 - val_acc: 0.9750\n",
      "Epoch 62/120\n"
     ]
    },
    {
     "name": "stdout",
     "output_type": "stream",
     "text": [
      "313/313 [==============================] - 1s 3ms/step - loss: 0.0525 - acc: 0.9833 - val_loss: 0.0638 - val_acc: 0.9750\n",
      "Epoch 63/120\n",
      "313/313 [==============================] - 1s 3ms/step - loss: 0.0443 - acc: 0.9859 - val_loss: 0.0438 - val_acc: 0.9850\n",
      "Epoch 64/120\n",
      "313/313 [==============================] - 1s 3ms/step - loss: 0.0446 - acc: 0.9856 - val_loss: 0.0258 - val_acc: 0.9890\n",
      "Epoch 65/120\n",
      "313/313 [==============================] - 1s 3ms/step - loss: 0.0397 - acc: 0.9874 - val_loss: 0.0170 - val_acc: 0.9960\n",
      "Epoch 66/120\n",
      "313/313 [==============================] - 1s 3ms/step - loss: 0.0323 - acc: 0.9911 - val_loss: 0.0175 - val_acc: 0.9950\n",
      "Epoch 67/120\n",
      "313/313 [==============================] - 1s 3ms/step - loss: 0.0317 - acc: 0.9917 - val_loss: 0.0121 - val_acc: 0.9980\n",
      "Epoch 68/120\n",
      "313/313 [==============================] - 1s 3ms/step - loss: 0.0291 - acc: 0.9911 - val_loss: 0.0087 - val_acc: 0.9980\n",
      "Epoch 69/120\n",
      "313/313 [==============================] - 1s 3ms/step - loss: 0.0265 - acc: 0.9921 - val_loss: 0.0085 - val_acc: 0.9990\n",
      "Epoch 70/120\n",
      "313/313 [==============================] - 1s 3ms/step - loss: 0.0261 - acc: 0.9935 - val_loss: 0.0051 - val_acc: 1.0000\n",
      "Epoch 71/120\n",
      "313/313 [==============================] - 1s 3ms/step - loss: 0.0239 - acc: 0.9940 - val_loss: 0.0084 - val_acc: 0.9980\n",
      "Epoch 72/120\n",
      "313/313 [==============================] - 1s 3ms/step - loss: 0.0181 - acc: 0.9948 - val_loss: 0.0075 - val_acc: 0.9980\n",
      "Epoch 73/120\n",
      "313/313 [==============================] - 1s 3ms/step - loss: 0.0191 - acc: 0.9958 - val_loss: 0.0093 - val_acc: 0.9980\n",
      "Epoch 74/120\n",
      "313/313 [==============================] - 1s 3ms/step - loss: 0.0180 - acc: 0.9943 - val_loss: 0.0034 - val_acc: 1.0000\n",
      "Epoch 75/120\n",
      "313/313 [==============================] - 1s 3ms/step - loss: 0.0145 - acc: 0.9966 - val_loss: 0.0051 - val_acc: 0.9990\n",
      "Epoch 76/120\n",
      "313/313 [==============================] - 1s 3ms/step - loss: 0.0138 - acc: 0.9967 - val_loss: 0.0024 - val_acc: 1.0000\n",
      "Epoch 77/120\n",
      "313/313 [==============================] - 1s 3ms/step - loss: 0.0173 - acc: 0.9956 - val_loss: 0.0027 - val_acc: 1.0000\n",
      "Epoch 78/120\n",
      "313/313 [==============================] - 1s 3ms/step - loss: 0.0149 - acc: 0.9954 - val_loss: 0.0033 - val_acc: 0.9990\n",
      "Epoch 79/120\n",
      "313/313 [==============================] - 1s 3ms/step - loss: 0.0179 - acc: 0.9956 - val_loss: 0.0065 - val_acc: 0.9990\n",
      "Epoch 80/120\n",
      "313/313 [==============================] - 1s 3ms/step - loss: 0.0124 - acc: 0.9965 - val_loss: 0.0011 - val_acc: 1.0000\n",
      "Epoch 81/120\n",
      "313/313 [==============================] - 1s 3ms/step - loss: 0.0125 - acc: 0.9969 - val_loss: 0.0055 - val_acc: 0.9980\n",
      "Epoch 82/120\n",
      "313/313 [==============================] - 1s 3ms/step - loss: 0.0167 - acc: 0.9965 - val_loss: 0.0013 - val_acc: 1.0000\n",
      "Epoch 83/120\n",
      "313/313 [==============================] - 1s 3ms/step - loss: 0.0119 - acc: 0.9974 - val_loss: 0.0016 - val_acc: 1.0000\n",
      "Epoch 84/120\n",
      "313/313 [==============================] - 1s 3ms/step - loss: 0.0153 - acc: 0.9971 - val_loss: 0.0014 - val_acc: 1.0000\n",
      "Epoch 85/120\n",
      "313/313 [==============================] - 1s 3ms/step - loss: 0.0129 - acc: 0.9974 - val_loss: 0.0010 - val_acc: 1.0000\n",
      "Epoch 86/120\n",
      "313/313 [==============================] - 1s 3ms/step - loss: 0.0112 - acc: 0.9968 - val_loss: 8.5708e-04 - val_acc: 1.0000\n",
      "Epoch 87/120\n",
      "313/313 [==============================] - 1s 3ms/step - loss: 0.0155 - acc: 0.9969 - val_loss: 0.0020 - val_acc: 0.9990\n",
      "Epoch 88/120\n",
      "313/313 [==============================] - 1s 3ms/step - loss: 0.0187 - acc: 0.9957 - val_loss: 6.4015e-04 - val_acc: 1.0000\n",
      "Epoch 89/120\n",
      "313/313 [==============================] - 1s 3ms/step - loss: 0.0119 - acc: 0.9967 - val_loss: 9.0740e-04 - val_acc: 1.0000\n",
      "Epoch 90/120\n",
      "313/313 [==============================] - 1s 3ms/step - loss: 0.0112 - acc: 0.9971 - val_loss: 4.2004e-04 - val_acc: 1.0000\n",
      "Epoch 91/120\n",
      "313/313 [==============================] - 1s 3ms/step - loss: 0.0133 - acc: 0.9966 - val_loss: 0.0012 - val_acc: 1.0000\n",
      "Epoch 92/120\n",
      "313/313 [==============================] - 1s 3ms/step - loss: 0.0174 - acc: 0.9967 - val_loss: 4.8838e-04 - val_acc: 1.0000\n",
      "Epoch 93/120\n",
      "313/313 [==============================] - 1s 3ms/step - loss: 0.0167 - acc: 0.9965 - val_loss: 3.0074e-04 - val_acc: 1.0000\n",
      "Epoch 94/120\n",
      "313/313 [==============================] - 1s 3ms/step - loss: 0.0137 - acc: 0.9972 - val_loss: 2.3292e-04 - val_acc: 1.0000\n",
      "Epoch 95/120\n",
      "313/313 [==============================] - 1s 3ms/step - loss: 0.0141 - acc: 0.9962 - val_loss: 5.4538e-04 - val_acc: 1.0000\n",
      "Epoch 96/120\n",
      "313/313 [==============================] - 1s 3ms/step - loss: 0.0126 - acc: 0.9968 - val_loss: 1.6276e-04 - val_acc: 1.0000\n",
      "Epoch 97/120\n",
      "313/313 [==============================] - 1s 3ms/step - loss: 0.0074 - acc: 0.9983 - val_loss: 1.0908e-04 - val_acc: 1.0000\n",
      "Epoch 98/120\n",
      "313/313 [==============================] - 1s 3ms/step - loss: 0.0162 - acc: 0.9975 - val_loss: 9.5909e-04 - val_acc: 1.0000\n",
      "Epoch 99/120\n",
      "313/313 [==============================] - 1s 3ms/step - loss: 0.0103 - acc: 0.9974 - val_loss: 7.1304e-04 - val_acc: 1.0000\n",
      "Epoch 100/120\n",
      "313/313 [==============================] - 1s 3ms/step - loss: 0.0094 - acc: 0.9977 - val_loss: 7.5824e-05 - val_acc: 1.0000\n",
      "Epoch 101/120\n",
      "313/313 [==============================] - 1s 3ms/step - loss: 0.0138 - acc: 0.9971 - val_loss: 1.2450e-04 - val_acc: 1.0000\n",
      "Epoch 102/120\n",
      "313/313 [==============================] - 1s 3ms/step - loss: 0.0119 - acc: 0.9967 - val_loss: 1.5715e-04 - val_acc: 1.0000\n",
      "Epoch 103/120\n",
      "313/313 [==============================] - 1s 3ms/step - loss: 0.0137 - acc: 0.9971 - val_loss: 7.5339e-04 - val_acc: 1.0000\n",
      "Epoch 104/120\n",
      "313/313 [==============================] - 1s 3ms/step - loss: 0.0118 - acc: 0.9976 - val_loss: 0.0030 - val_acc: 0.9990\n",
      "Epoch 105/120\n",
      "313/313 [==============================] - 1s 3ms/step - loss: 0.0114 - acc: 0.9974 - val_loss: 4.5609e-04 - val_acc: 1.0000\n",
      "Epoch 106/120\n",
      "313/313 [==============================] - 1s 3ms/step - loss: 0.0117 - acc: 0.9972 - val_loss: 4.3856e-04 - val_acc: 1.0000\n",
      "Epoch 107/120\n",
      "313/313 [==============================] - 1s 3ms/step - loss: 0.0089 - acc: 0.9979 - val_loss: 9.8399e-04 - val_acc: 1.0000\n",
      "Epoch 108/120\n",
      "313/313 [==============================] - 1s 3ms/step - loss: 0.0116 - acc: 0.9979 - val_loss: 1.4804e-04 - val_acc: 1.0000\n",
      "Epoch 109/120\n",
      "313/313 [==============================] - 1s 3ms/step - loss: 0.0093 - acc: 0.9978 - val_loss: 3.2413e-04 - val_acc: 1.0000\n",
      "Epoch 110/120\n",
      "313/313 [==============================] - 1s 3ms/step - loss: 0.0080 - acc: 0.9981 - val_loss: 0.0010 - val_acc: 0.9990\n",
      "Epoch 111/120\n",
      "313/313 [==============================] - 1s 3ms/step - loss: 0.0073 - acc: 0.9988 - val_loss: 3.1028e-04 - val_acc: 1.0000\n",
      "Epoch 112/120\n",
      "313/313 [==============================] - 1s 3ms/step - loss: 0.0113 - acc: 0.9973 - val_loss: 1.8320e-04 - val_acc: 1.0000\n",
      "Epoch 113/120\n",
      "313/313 [==============================] - 1s 3ms/step - loss: 0.0071 - acc: 0.9982 - val_loss: 8.0350e-04 - val_acc: 1.0000\n",
      "Epoch 114/120\n",
      "313/313 [==============================] - 1s 3ms/step - loss: 0.0083 - acc: 0.9975 - val_loss: 1.8847e-04 - val_acc: 1.0000\n",
      "Epoch 115/120\n",
      "313/313 [==============================] - 1s 3ms/step - loss: 0.0045 - acc: 0.9989 - val_loss: 4.8641e-05 - val_acc: 1.0000\n",
      "Epoch 116/120\n",
      "313/313 [==============================] - 1s 3ms/step - loss: 0.0094 - acc: 0.9985 - val_loss: 5.6797e-05 - val_acc: 1.0000\n",
      "Epoch 117/120\n",
      "313/313 [==============================] - 1s 3ms/step - loss: 0.0078 - acc: 0.9985 - val_loss: 2.4481e-04 - val_acc: 1.0000\n",
      "Epoch 118/120\n",
      "313/313 [==============================] - 1s 3ms/step - loss: 0.0126 - acc: 0.9972 - val_loss: 1.0906e-04 - val_acc: 1.0000\n",
      "Epoch 119/120\n",
      "313/313 [==============================] - 1s 3ms/step - loss: 0.0082 - acc: 0.9980 - val_loss: 5.6939e-05 - val_acc: 1.0000\n",
      "Epoch 120/120\n",
      "313/313 [==============================] - 1s 3ms/step - loss: 0.0139 - acc: 0.9979 - val_loss: 1.0482e-04 - val_acc: 1.0000\n"
     ]
    }
   ],
   "source": [
    "import os\n",
    "\n",
    "# 모델 컴파일\n",
    "model = Model([input_sequence, question], answer)\n",
    "model.compile(optimizer='rmsprop', loss='categorical_crossentropy',\n",
    "              metrics=['acc'])\n",
    " \n",
    "# 테스트 데이터를 검증 데이터로 사용하면서 모델 훈련 시작\n",
    "history = model.fit([Xstrain, Xqtrain],\n",
    "         Ytrain, batch_size, train_epochs,\n",
    "         validation_data=([Xstest, Xqtest], Ytest))\n",
    " \n",
    "# 훈련 후에는 모델 저장\n",
    "model_path = os.getenv('HOME')+'/aiffel/babi_memory_net/model.h5'\n",
    "model.save(model_path)"
   ]
  },
  {
   "cell_type": "code",
   "execution_count": 45,
   "metadata": {},
   "outputs": [
    {
     "name": "stdout",
     "output_type": "stream",
     "text": [
      "32/32 [==============================] - 0s 1ms/step - loss: 1.0482e-04 - acc: 1.0000\n",
      "\n",
      " 테스트 정확도: 1.0000\n"
     ]
    }
   ],
   "source": [
    "print(\"\\n 테스트 정확도: %.4f\" % (model.evaluate([Xstest, Xqtest], Ytest)[1]))"
   ]
  },
  {
   "cell_type": "code",
   "execution_count": 46,
   "metadata": {},
   "outputs": [
    {
     "data": {
      "image/png": "[encoded data removed]",
      "text/plain": [
       "<Figure size 640x480 with 2 Axes>"
      ]
     },
     "metadata": {},
     "output_type": "display_data"
    }
   ],
   "source": [
    "# 훈련 히스토리 시각화\n",
    "\n",
    "# plot accuracy and loss plot\n",
    "plt.subplot(211)\n",
    "plt.title(\"Accuracy\")\n",
    "plt.plot(history.history[\"acc\"], color=\"g\", label=\"train\")\n",
    "plt.plot(history.history[\"val_acc\"], color=\"b\", label=\"validation\")\n",
    "plt.legend(loc=\"best\")\n",
    "\n",
    "plt.subplot(212)\n",
    "plt.title(\"Loss\")\n",
    "plt.plot(history.history[\"loss\"], color=\"g\", label=\"train\")\n",
    "plt.plot(history.history[\"val_loss\"], color=\"b\", label=\"validation\")\n",
    "plt.legend(loc=\"best\")\n",
    "\n",
    "plt.tight_layout()\n",
    "plt.show()\n",
    "\n",
    "# labels\n",
    "ytest = np.argmax(Ytest, axis=1)\n",
    "\n",
    "# get predictions\n",
    "Ytest_ = model.predict([Xstest, Xqtest])\n",
    "ytest_ = np.argmax(Ytest_, axis=1)"
   ]
  },
  {
   "cell_type": "code",
   "execution_count": 47,
   "metadata": {},
   "outputs": [
    {
     "name": "stdout",
     "output_type": "stream",
     "text": [
      "질문                  |실제값    |예측값\n",
      "---------------------------------------\n",
      "은경이는 어디야 ?          : 복도       복도\n",
      "필웅이는 어디야 ?          : 화장실      화장실\n",
      "경임이는 어디야 ?          : 부엌       부엌\n",
      "경임이는 어디야 ?          : 복도       복도\n",
      "경임이는 어디야 ?          : 부엌       부엌\n",
      "경임이는 어디야 ?          : 복도       복도\n",
      "경임이는 어디야 ?          : 정원       정원\n",
      "수종이는 어디야 ?          : 복도       복도\n",
      "경임이는 어디야 ?          : 사무실      사무실\n",
      "수종이는 어디야 ?          : 사무실      사무실\n",
      "필웅이는 어디야 ?          : 부엌       부엌\n",
      "필웅이는 어디야 ?          : 정원       정원\n",
      "수종이는 어디야 ?          : 사무실      사무실\n",
      "필웅이는 어디야 ?          : 침실       침실\n",
      "필웅이는 어디야 ?          : 침실       침실\n",
      "은경이는 어디야 ?          : 부엌       부엌\n",
      "은경이는 어디야 ?          : 정원       정원\n",
      "은경이는 어디야 ?          : 부엌       부엌\n",
      "수종이는 어디야 ?          : 사무실      사무실\n",
      "은경이는 어디야 ?          : 부엌       부엌\n",
      "필웅이는 어디야 ?          : 복도       복도\n",
      "은경이는 어디야 ?          : 사무실      사무실\n",
      "은경이는 어디야 ?          : 사무실      사무실\n",
      "경임이는 어디야 ?          : 복도       복도\n",
      "수종이는 어디야 ?          : 침실       침실\n",
      "경임이는 어디야 ?          : 침실       침실\n",
      "필웅이는 어디야 ?          : 침실       침실\n",
      "수종이는 어디야 ?          : 부엌       부엌\n",
      "수종이는 어디야 ?          : 부엌       부엌\n",
      "수종이는 어디야 ?          : 부엌       부엌\n"
     ]
    }
   ],
   "source": [
    "#테스트 데이터에서 실제 예측결과 확인 \n",
    "\n",
    "NUM_DISPLAY = 30\n",
    "\n",
    "print(\"{:20}|{:7}|{}\".format(\"질문\", \"실제값\", \"예측값\"))\n",
    "print(39 * \"-\")\n",
    "\n",
    "for i in range(NUM_DISPLAY):\n",
    "    question = \" \".join([idx2word[x] for x in Xqtest[i].tolist()])\n",
    "    label = idx2word[ytest[i]]\n",
    "    prediction = idx2word[ytest_[i]]\n",
    "    print(\"{:20}: {:8} {}\".format(question, label, prediction))"
   ]
  },
  {
   "cell_type": "markdown",
   "metadata": {},
   "source": [
    "### 회고\n",
    "- 한국어 형태소 분석기를 활용한 토크나이저 적용이 안되었다.\n",
    "- 한국어 전처리 와 임베딩 방법에 대해서 더 공부해야겠다.\n",
    "- 모델 성능이 거의 99% 가깝게 추론을 하였는데, 데이터셋의 분리문제인지 임베딩과 토큰화의 문제인지 잘 모르겠다."
   ]
  },
  {
   "cell_type": "code",
   "execution_count": null,
   "metadata": {},
   "outputs": [],
   "source": []
  }
 ],
 "metadata": {
  "kernelspec": {
   "display_name": "Python 3",
   "language": "python",
   "name": "python3"
  },
  "language_info": {
   "codemirror_mode": {
    "name": "ipython",
    "version": 3
   },
   "file_extension": ".py",
   "mimetype": "text/x-python",
   "name": "python",
   "nbconvert_exporter": "python",
   "pygments_lexer": "ipython3",
   "version": "3.7.6"
  }
 },
 "nbformat": 4,
 "nbformat_minor": 4
}
